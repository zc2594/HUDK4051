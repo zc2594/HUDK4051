{
 "cells": [
  {
   "cell_type": "code",
   "execution_count": 2,
   "metadata": {},
   "outputs": [],
   "source": [
    "# !pip install pyBKT"
   ]
  },
  {
   "cell_type": "code",
   "execution_count": 3,
   "metadata": {},
   "outputs": [],
   "source": [
    "# Import all required packages including pyBKT.models.Model!\n",
    "import numpy as np\n",
    "import pandas as pd\n",
    "from pyBKT.models import Model\n",
    "import matplotlib.pyplot as plt"
   ]
  },
  {
   "cell_type": "markdown",
   "metadata": {},
   "source": [
    "### Basic Model Creation and Evaluation"
   ]
  },
  {
   "cell_type": "code",
   "execution_count": 4,
   "metadata": {},
   "outputs": [],
   "source": [
    "model = Model(seed = 33, num_fits = 1)"
   ]
  },
  {
   "cell_type": "markdown",
   "metadata": {},
   "source": [
    "Fetch Assistments and CognitiveTutor data to the local disk"
   ]
  },
  {
   "cell_type": "code",
   "execution_count": 5,
   "metadata": {},
   "outputs": [],
   "source": [
    "model.fetch_dataset('https://raw.githubusercontent.com/CAHLR/pyBKT-examples/master/data/as.csv', '.')\n",
    "model.fetch_dataset('https://raw.githubusercontent.com/CAHLR/pyBKT-examples/master/data/ct.csv', '.')"
   ]
  },
  {
   "cell_type": "markdown",
   "metadata": {},
   "source": [
    "#### Date exploring"
   ]
  },
  {
   "cell_type": "code",
   "execution_count": 6,
   "metadata": {},
   "outputs": [
    {
     "name": "stdout",
     "output_type": "stream",
     "text": [
      "Index(['Unnamed: 0', 'Row', 'Anon Student Id', 'Problem Hierarchy',\n",
      "       'Problem Name', 'Problem View', 'Step Name', 'Step Start Time',\n",
      "       'First Transaction Time', 'Correct Transaction Time', 'Step End Time',\n",
      "       'Step Duration (sec)', 'Correct Step Duration (sec)',\n",
      "       'Error Step Duration (sec)', 'Correct First Attempt', 'Incorrects',\n",
      "       'Hints', 'Corrects', 'KC(Default)', 'Opportunity(Default)'],\n",
      "      dtype='object')\n"
     ]
    },
    {
     "data": {
      "text/html": [
       "<div>\n",
       "<style scoped>\n",
       "    .dataframe tbody tr th:only-of-type {\n",
       "        vertical-align: middle;\n",
       "    }\n",
       "\n",
       "    .dataframe tbody tr th {\n",
       "        vertical-align: top;\n",
       "    }\n",
       "\n",
       "    .dataframe thead th {\n",
       "        text-align: right;\n",
       "    }\n",
       "</style>\n",
       "<table border=\"1\" class=\"dataframe\">\n",
       "  <thead>\n",
       "    <tr style=\"text-align: right;\">\n",
       "      <th></th>\n",
       "      <th>Unnamed: 0</th>\n",
       "      <th>Row</th>\n",
       "      <th>Anon Student Id</th>\n",
       "      <th>Problem Hierarchy</th>\n",
       "      <th>Problem Name</th>\n",
       "      <th>Problem View</th>\n",
       "      <th>Step Name</th>\n",
       "      <th>Step Start Time</th>\n",
       "      <th>First Transaction Time</th>\n",
       "      <th>Correct Transaction Time</th>\n",
       "      <th>Step End Time</th>\n",
       "      <th>Step Duration (sec)</th>\n",
       "      <th>Correct Step Duration (sec)</th>\n",
       "      <th>Error Step Duration (sec)</th>\n",
       "      <th>Correct First Attempt</th>\n",
       "      <th>Incorrects</th>\n",
       "      <th>Hints</th>\n",
       "      <th>Corrects</th>\n",
       "      <th>KC(Default)</th>\n",
       "      <th>Opportunity(Default)</th>\n",
       "    </tr>\n",
       "  </thead>\n",
       "  <tbody>\n",
       "    <tr>\n",
       "      <th>0</th>\n",
       "      <td>1576</td>\n",
       "      <td>1927</td>\n",
       "      <td>745Yh</td>\n",
       "      <td>Unit RATIO-PROPORTION, Section RATIO-PROPORTION-2</td>\n",
       "      <td>RATIO2-001</td>\n",
       "      <td>1</td>\n",
       "      <td>SimplifiedNumeratorQuantity1</td>\n",
       "      <td>2006-11-14 10:18:00.0</td>\n",
       "      <td>2006-11-14 10:18:05.0</td>\n",
       "      <td>2006-11-14 10:18:05.0</td>\n",
       "      <td>2006-11-14 10:18:05.0</td>\n",
       "      <td>5.00000</td>\n",
       "      <td>5.00000</td>\n",
       "      <td>NaN</td>\n",
       "      <td>1</td>\n",
       "      <td>0</td>\n",
       "      <td>0</td>\n",
       "      <td>1</td>\n",
       "      <td>Calculate unit rate</td>\n",
       "      <td>1</td>\n",
       "    </tr>\n",
       "    <tr>\n",
       "      <th>1</th>\n",
       "      <td>1580</td>\n",
       "      <td>1931</td>\n",
       "      <td>745Yh</td>\n",
       "      <td>Unit RATIO-PROPORTION, Section RATIO-PROPORTION-2</td>\n",
       "      <td>RATIO2-001</td>\n",
       "      <td>1</td>\n",
       "      <td>SimplifiedNumeratorQuantity2</td>\n",
       "      <td>2006-11-14 10:18:11.0</td>\n",
       "      <td>2006-11-14 10:18:17.0</td>\n",
       "      <td>2006-11-14 10:18:34.0</td>\n",
       "      <td>2006-11-14 10:18:34.0</td>\n",
       "      <td>23.00000</td>\n",
       "      <td>NaN</td>\n",
       "      <td>23.00000</td>\n",
       "      <td>0</td>\n",
       "      <td>1</td>\n",
       "      <td>0</td>\n",
       "      <td>1</td>\n",
       "      <td>Calculate unit rate</td>\n",
       "      <td>2</td>\n",
       "    </tr>\n",
       "    <tr>\n",
       "      <th>2</th>\n",
       "      <td>1596</td>\n",
       "      <td>1947</td>\n",
       "      <td>745Yh</td>\n",
       "      <td>Unit RATIO-PROPORTION, Section RATIO-PROPORTION-2</td>\n",
       "      <td>RATIO2-012</td>\n",
       "      <td>1</td>\n",
       "      <td>SimplifiedNumeratorQuantity1</td>\n",
       "      <td>2006-11-14 10:50:52.0</td>\n",
       "      <td>2006-11-14 10:50:57.0</td>\n",
       "      <td>2006-11-14 10:51:11.0</td>\n",
       "      <td>2006-11-14 10:51:11.0</td>\n",
       "      <td>18.00000</td>\n",
       "      <td>NaN</td>\n",
       "      <td>18.00000</td>\n",
       "      <td>0</td>\n",
       "      <td>1</td>\n",
       "      <td>0</td>\n",
       "      <td>1</td>\n",
       "      <td>Calculate unit rate</td>\n",
       "      <td>3</td>\n",
       "    </tr>\n",
       "    <tr>\n",
       "      <th>3</th>\n",
       "      <td>1597</td>\n",
       "      <td>1948</td>\n",
       "      <td>745Yh</td>\n",
       "      <td>Unit RATIO-PROPORTION, Section RATIO-PROPORTION-2</td>\n",
       "      <td>RATIO2-012</td>\n",
       "      <td>1</td>\n",
       "      <td>SimplifiedNumeratorQuantity2</td>\n",
       "      <td>2006-11-14 10:51:11.0</td>\n",
       "      <td>2006-11-14 10:51:14.0</td>\n",
       "      <td>2006-11-14 10:51:14.0</td>\n",
       "      <td>2006-11-14 10:51:14.0</td>\n",
       "      <td>3.00000</td>\n",
       "      <td>3.00000</td>\n",
       "      <td>NaN</td>\n",
       "      <td>1</td>\n",
       "      <td>0</td>\n",
       "      <td>0</td>\n",
       "      <td>1</td>\n",
       "      <td>Calculate unit rate</td>\n",
       "      <td>4</td>\n",
       "    </tr>\n",
       "    <tr>\n",
       "      <th>4</th>\n",
       "      <td>1612</td>\n",
       "      <td>1963</td>\n",
       "      <td>745Yh</td>\n",
       "      <td>Unit RATIO-PROPORTION, Section RATIO-PROPORTION-2</td>\n",
       "      <td>RATIO2-054</td>\n",
       "      <td>1</td>\n",
       "      <td>SimplifiedNumeratorQuantity2</td>\n",
       "      <td>2006-11-28 09:53:43.0</td>\n",
       "      <td>2006-11-28 09:53:47.0</td>\n",
       "      <td>2006-11-28 09:53:56.0</td>\n",
       "      <td>2006-11-28 09:53:56.0</td>\n",
       "      <td>13.00000</td>\n",
       "      <td>NaN</td>\n",
       "      <td>13.00000</td>\n",
       "      <td>0</td>\n",
       "      <td>1</td>\n",
       "      <td>0</td>\n",
       "      <td>1</td>\n",
       "      <td>Calculate unit rate</td>\n",
       "      <td>5</td>\n",
       "    </tr>\n",
       "  </tbody>\n",
       "</table>\n",
       "</div>"
      ],
      "text/plain": [
       "   Unnamed: 0   Row Anon Student Id  \\\n",
       "0        1576  1927           745Yh   \n",
       "1        1580  1931           745Yh   \n",
       "2        1596  1947           745Yh   \n",
       "3        1597  1948           745Yh   \n",
       "4        1612  1963           745Yh   \n",
       "\n",
       "                                   Problem Hierarchy Problem Name  \\\n",
       "0  Unit RATIO-PROPORTION, Section RATIO-PROPORTION-2   RATIO2-001   \n",
       "1  Unit RATIO-PROPORTION, Section RATIO-PROPORTION-2   RATIO2-001   \n",
       "2  Unit RATIO-PROPORTION, Section RATIO-PROPORTION-2   RATIO2-012   \n",
       "3  Unit RATIO-PROPORTION, Section RATIO-PROPORTION-2   RATIO2-012   \n",
       "4  Unit RATIO-PROPORTION, Section RATIO-PROPORTION-2   RATIO2-054   \n",
       "\n",
       "   Problem View                     Step Name        Step Start Time  \\\n",
       "0             1  SimplifiedNumeratorQuantity1  2006-11-14 10:18:00.0   \n",
       "1             1  SimplifiedNumeratorQuantity2  2006-11-14 10:18:11.0   \n",
       "2             1  SimplifiedNumeratorQuantity1  2006-11-14 10:50:52.0   \n",
       "3             1  SimplifiedNumeratorQuantity2  2006-11-14 10:51:11.0   \n",
       "4             1  SimplifiedNumeratorQuantity2  2006-11-28 09:53:43.0   \n",
       "\n",
       "  First Transaction Time Correct Transaction Time          Step End Time  \\\n",
       "0  2006-11-14 10:18:05.0    2006-11-14 10:18:05.0  2006-11-14 10:18:05.0   \n",
       "1  2006-11-14 10:18:17.0    2006-11-14 10:18:34.0  2006-11-14 10:18:34.0   \n",
       "2  2006-11-14 10:50:57.0    2006-11-14 10:51:11.0  2006-11-14 10:51:11.0   \n",
       "3  2006-11-14 10:51:14.0    2006-11-14 10:51:14.0  2006-11-14 10:51:14.0   \n",
       "4  2006-11-28 09:53:47.0    2006-11-28 09:53:56.0  2006-11-28 09:53:56.0   \n",
       "\n",
       "   Step Duration (sec)  Correct Step Duration (sec)  \\\n",
       "0              5.00000                      5.00000   \n",
       "1             23.00000                          NaN   \n",
       "2             18.00000                          NaN   \n",
       "3              3.00000                      3.00000   \n",
       "4             13.00000                          NaN   \n",
       "\n",
       "   Error Step Duration (sec)  Correct First Attempt  Incorrects  Hints  \\\n",
       "0                        NaN                      1           0      0   \n",
       "1                   23.00000                      0           1      0   \n",
       "2                   18.00000                      0           1      0   \n",
       "3                        NaN                      1           0      0   \n",
       "4                   13.00000                      0           1      0   \n",
       "\n",
       "   Corrects          KC(Default)  Opportunity(Default)  \n",
       "0         1  Calculate unit rate                     1  \n",
       "1         1  Calculate unit rate                     2  \n",
       "2         1  Calculate unit rate                     3  \n",
       "3         1  Calculate unit rate                     4  \n",
       "4         1  Calculate unit rate                     5  "
      ]
     },
     "execution_count": 6,
     "metadata": {},
     "output_type": "execute_result"
    }
   ],
   "source": [
    "ct_df = pd.read_csv('ct.csv', encoding = 'latin')\n",
    "print(ct_df.columns)\n",
    "ct_df.head(5)"
   ]
  },
  {
   "cell_type": "code",
   "execution_count": 7,
   "metadata": {},
   "outputs": [
    {
     "name": "stdout",
     "output_type": "stream",
     "text": [
      "Index(['order_id', 'assignment_id', 'user_id', 'assistment_id', 'problem_id',\n",
      "       'original', 'correct', 'attempt_count', 'ms_first_response',\n",
      "       'tutor_mode', 'answer_type', 'sequence_id', 'student_class_id',\n",
      "       'position', 'type', 'base_sequence_id', 'skill_id', 'skill_name',\n",
      "       'teacher_id', 'school_id', 'hint_count', 'hint_total', 'overlap_time',\n",
      "       'template_id', 'answer_id', 'answer_text', 'first_action',\n",
      "       'bottom_hint', 'opportunity', 'opportunity_original'],\n",
      "      dtype='object')\n"
     ]
    },
    {
     "data": {
      "text/html": [
       "<div>\n",
       "<style scoped>\n",
       "    .dataframe tbody tr th:only-of-type {\n",
       "        vertical-align: middle;\n",
       "    }\n",
       "\n",
       "    .dataframe tbody tr th {\n",
       "        vertical-align: top;\n",
       "    }\n",
       "\n",
       "    .dataframe thead th {\n",
       "        text-align: right;\n",
       "    }\n",
       "</style>\n",
       "<table border=\"1\" class=\"dataframe\">\n",
       "  <thead>\n",
       "    <tr style=\"text-align: right;\">\n",
       "      <th></th>\n",
       "      <th>order_id</th>\n",
       "      <th>assignment_id</th>\n",
       "      <th>user_id</th>\n",
       "      <th>assistment_id</th>\n",
       "      <th>problem_id</th>\n",
       "      <th>original</th>\n",
       "      <th>correct</th>\n",
       "      <th>attempt_count</th>\n",
       "      <th>ms_first_response</th>\n",
       "      <th>tutor_mode</th>\n",
       "      <th>...</th>\n",
       "      <th>hint_count</th>\n",
       "      <th>hint_total</th>\n",
       "      <th>overlap_time</th>\n",
       "      <th>template_id</th>\n",
       "      <th>answer_id</th>\n",
       "      <th>answer_text</th>\n",
       "      <th>first_action</th>\n",
       "      <th>bottom_hint</th>\n",
       "      <th>opportunity</th>\n",
       "      <th>opportunity_original</th>\n",
       "    </tr>\n",
       "  </thead>\n",
       "  <tbody>\n",
       "    <tr>\n",
       "      <th>0</th>\n",
       "      <td>33022537</td>\n",
       "      <td>277618</td>\n",
       "      <td>64525</td>\n",
       "      <td>33139</td>\n",
       "      <td>51424</td>\n",
       "      <td>1</td>\n",
       "      <td>1</td>\n",
       "      <td>1</td>\n",
       "      <td>32454</td>\n",
       "      <td>tutor</td>\n",
       "      <td>...</td>\n",
       "      <td>0</td>\n",
       "      <td>3</td>\n",
       "      <td>32454</td>\n",
       "      <td>30799</td>\n",
       "      <td>NaN</td>\n",
       "      <td>26</td>\n",
       "      <td>0</td>\n",
       "      <td>NaN</td>\n",
       "      <td>1</td>\n",
       "      <td>1.00000</td>\n",
       "    </tr>\n",
       "    <tr>\n",
       "      <th>1</th>\n",
       "      <td>33022709</td>\n",
       "      <td>277618</td>\n",
       "      <td>64525</td>\n",
       "      <td>33150</td>\n",
       "      <td>51435</td>\n",
       "      <td>1</td>\n",
       "      <td>1</td>\n",
       "      <td>1</td>\n",
       "      <td>4922</td>\n",
       "      <td>tutor</td>\n",
       "      <td>...</td>\n",
       "      <td>0</td>\n",
       "      <td>3</td>\n",
       "      <td>4922</td>\n",
       "      <td>30799</td>\n",
       "      <td>NaN</td>\n",
       "      <td>55</td>\n",
       "      <td>0</td>\n",
       "      <td>NaN</td>\n",
       "      <td>2</td>\n",
       "      <td>2.00000</td>\n",
       "    </tr>\n",
       "    <tr>\n",
       "      <th>2</th>\n",
       "      <td>35450204</td>\n",
       "      <td>220674</td>\n",
       "      <td>70363</td>\n",
       "      <td>33159</td>\n",
       "      <td>51444</td>\n",
       "      <td>1</td>\n",
       "      <td>0</td>\n",
       "      <td>2</td>\n",
       "      <td>25390</td>\n",
       "      <td>tutor</td>\n",
       "      <td>...</td>\n",
       "      <td>0</td>\n",
       "      <td>3</td>\n",
       "      <td>42000</td>\n",
       "      <td>30799</td>\n",
       "      <td>NaN</td>\n",
       "      <td>88</td>\n",
       "      <td>0</td>\n",
       "      <td>NaN</td>\n",
       "      <td>1</td>\n",
       "      <td>1.00000</td>\n",
       "    </tr>\n",
       "    <tr>\n",
       "      <th>3</th>\n",
       "      <td>35450295</td>\n",
       "      <td>220674</td>\n",
       "      <td>70363</td>\n",
       "      <td>33110</td>\n",
       "      <td>51395</td>\n",
       "      <td>1</td>\n",
       "      <td>1</td>\n",
       "      <td>1</td>\n",
       "      <td>4859</td>\n",
       "      <td>tutor</td>\n",
       "      <td>...</td>\n",
       "      <td>0</td>\n",
       "      <td>3</td>\n",
       "      <td>4859</td>\n",
       "      <td>30059</td>\n",
       "      <td>NaN</td>\n",
       "      <td>41</td>\n",
       "      <td>0</td>\n",
       "      <td>NaN</td>\n",
       "      <td>2</td>\n",
       "      <td>2.00000</td>\n",
       "    </tr>\n",
       "    <tr>\n",
       "      <th>4</th>\n",
       "      <td>35450311</td>\n",
       "      <td>220674</td>\n",
       "      <td>70363</td>\n",
       "      <td>33196</td>\n",
       "      <td>51481</td>\n",
       "      <td>1</td>\n",
       "      <td>0</td>\n",
       "      <td>14</td>\n",
       "      <td>19813</td>\n",
       "      <td>tutor</td>\n",
       "      <td>...</td>\n",
       "      <td>3</td>\n",
       "      <td>4</td>\n",
       "      <td>124564</td>\n",
       "      <td>30060</td>\n",
       "      <td>NaN</td>\n",
       "      <td>65</td>\n",
       "      <td>0</td>\n",
       "      <td>0.00000</td>\n",
       "      <td>3</td>\n",
       "      <td>3.00000</td>\n",
       "    </tr>\n",
       "  </tbody>\n",
       "</table>\n",
       "<p>5 rows × 30 columns</p>\n",
       "</div>"
      ],
      "text/plain": [
       "   order_id  assignment_id  user_id  assistment_id  problem_id  original  \\\n",
       "0  33022537         277618    64525          33139       51424         1   \n",
       "1  33022709         277618    64525          33150       51435         1   \n",
       "2  35450204         220674    70363          33159       51444         1   \n",
       "3  35450295         220674    70363          33110       51395         1   \n",
       "4  35450311         220674    70363          33196       51481         1   \n",
       "\n",
       "   correct  attempt_count  ms_first_response tutor_mode  ... hint_count  \\\n",
       "0        1              1              32454      tutor  ...          0   \n",
       "1        1              1               4922      tutor  ...          0   \n",
       "2        0              2              25390      tutor  ...          0   \n",
       "3        1              1               4859      tutor  ...          0   \n",
       "4        0             14              19813      tutor  ...          3   \n",
       "\n",
       "   hint_total  overlap_time  template_id answer_id  answer_text  first_action  \\\n",
       "0           3         32454        30799       NaN           26             0   \n",
       "1           3          4922        30799       NaN           55             0   \n",
       "2           3         42000        30799       NaN           88             0   \n",
       "3           3          4859        30059       NaN           41             0   \n",
       "4           4        124564        30060       NaN           65             0   \n",
       "\n",
       "  bottom_hint  opportunity  opportunity_original  \n",
       "0         NaN            1               1.00000  \n",
       "1         NaN            2               2.00000  \n",
       "2         NaN            1               1.00000  \n",
       "3         NaN            2               2.00000  \n",
       "4     0.00000            3               3.00000  \n",
       "\n",
       "[5 rows x 30 columns]"
      ]
     },
     "execution_count": 7,
     "metadata": {},
     "output_type": "execute_result"
    }
   ],
   "source": [
    "as_df = pd.read_csv('as.csv', encoding = 'latin', low_memory = False)\n",
    "print(as_df.columns)\n",
    "as_df.head(5)"
   ]
  },
  {
   "cell_type": "markdown",
   "metadata": {},
   "source": [
    "#### Fit a simple model  \n",
    "Note: trains BKT models on all skills containing the word fraction!"
   ]
  },
  {
   "cell_type": "code",
   "execution_count": 9,
   "metadata": {},
   "outputs": [
    {
     "name": "stdout",
     "output_type": "stream",
     "text": [
      "Fitted Skills:\n",
      "Plot non-terminating improper fraction\n",
      "Plot terminating proper fraction\n",
      "Calculate part in proportion with fractions\n",
      "Calculate total in proportion with fractions\n"
     ]
    }
   ],
   "source": [
    "model.fit(data_path = 'ct.csv', skills = \".*fraction.*\")\n",
    "print(\"Fitted Skills:\\n%s\" % '\\n'.join(model.coef_.keys()))"
   ]
  },
  {
   "cell_type": "markdown",
   "metadata": {},
   "source": [
    "#### Evalueate on the trained skills with built-in metric"
   ]
  },
  {
   "cell_type": "code",
   "execution_count": 11,
   "metadata": {},
   "outputs": [
    {
     "name": "stdout",
     "output_type": "stream",
     "text": [
      "Training RMSE: 0.454088\n",
      "Training AUC: 0.705902\n"
     ]
    }
   ],
   "source": [
    "# Evaluate with the default RMSE then specify AUC.\n",
    "model.fit(data_path = 'ct.csv')\n",
    "training_rmse = model.evaluate(data = ct_df)\n",
    "training_auc = model.evaluate(data_path = \"ct.csv\", metric = 'auc')\n",
    "print(\"Training RMSE: %f\" % training_rmse)\n",
    "print(\"Training AUC: %f\" % training_auc)"
   ]
  },
  {
   "cell_type": "markdown",
   "metadata": {},
   "source": [
    "#### Evalueate on the trained skills with our own metirc"
   ]
  },
  {
   "cell_type": "code",
   "execution_count": 12,
   "metadata": {},
   "outputs": [
    {
     "name": "stdout",
     "output_type": "stream",
     "text": [
      "Training MAE: 0.412958\n"
     ]
    }
   ],
   "source": [
    "def mae(true_vals, pred_vals):\n",
    "  \"\"\" Calculates the mean absolute error. \"\"\"\n",
    "  return np.mean(np.abs(true_vals - pred_vals))\n",
    "\n",
    "training_mae = model.evaluate(data_path = 'ct.csv', metric = mae)\n",
    "print(\"Training MAE: %f\" % training_mae)"
   ]
  },
  {
   "cell_type": "markdown",
   "metadata": {},
   "source": [
    "#### Model prediction"
   ]
  },
  {
   "cell_type": "code",
   "execution_count": 13,
   "metadata": {},
   "outputs": [
    {
     "data": {
      "text/html": [
       "<div>\n",
       "<style scoped>\n",
       "    .dataframe tbody tr th:only-of-type {\n",
       "        vertical-align: middle;\n",
       "    }\n",
       "\n",
       "    .dataframe tbody tr th {\n",
       "        vertical-align: top;\n",
       "    }\n",
       "\n",
       "    .dataframe thead th {\n",
       "        text-align: right;\n",
       "    }\n",
       "</style>\n",
       "<table border=\"1\" class=\"dataframe\">\n",
       "  <thead>\n",
       "    <tr style=\"text-align: right;\">\n",
       "      <th></th>\n",
       "      <th>Anon Student Id</th>\n",
       "      <th>KC(Default)</th>\n",
       "      <th>Correct First Attempt</th>\n",
       "      <th>correct_predictions</th>\n",
       "      <th>state_predictions</th>\n",
       "    </tr>\n",
       "  </thead>\n",
       "  <tbody>\n",
       "    <tr>\n",
       "      <th>773</th>\n",
       "      <td>0I891Gg</td>\n",
       "      <td>Plot non-terminating improper fraction</td>\n",
       "      <td>0</td>\n",
       "      <td>0.50525</td>\n",
       "      <td>0.67151</td>\n",
       "    </tr>\n",
       "    <tr>\n",
       "      <th>774</th>\n",
       "      <td>0I891Gg</td>\n",
       "      <td>Plot imperfect radical</td>\n",
       "      <td>0</td>\n",
       "      <td>0.25598</td>\n",
       "      <td>0.28306</td>\n",
       "    </tr>\n",
       "    <tr>\n",
       "      <th>775</th>\n",
       "      <td>0I891Gg</td>\n",
       "      <td>Plot terminating proper fraction</td>\n",
       "      <td>0</td>\n",
       "      <td>0.51425</td>\n",
       "      <td>0.56699</td>\n",
       "    </tr>\n",
       "    <tr>\n",
       "      <th>776</th>\n",
       "      <td>0I891Gg</td>\n",
       "      <td>Plot pi</td>\n",
       "      <td>1</td>\n",
       "      <td>0.64685</td>\n",
       "      <td>0.39579</td>\n",
       "    </tr>\n",
       "    <tr>\n",
       "      <th>777</th>\n",
       "      <td>0I891Gg</td>\n",
       "      <td>Plot terminating proper fraction</td>\n",
       "      <td>1</td>\n",
       "      <td>0.45205</td>\n",
       "      <td>0.40705</td>\n",
       "    </tr>\n",
       "  </tbody>\n",
       "</table>\n",
       "</div>"
      ],
      "text/plain": [
       "    Anon Student Id                             KC(Default)  \\\n",
       "773         0I891Gg  Plot non-terminating improper fraction   \n",
       "774         0I891Gg                  Plot imperfect radical   \n",
       "775         0I891Gg        Plot terminating proper fraction   \n",
       "776         0I891Gg                                 Plot pi   \n",
       "777         0I891Gg        Plot terminating proper fraction   \n",
       "\n",
       "     Correct First Attempt  correct_predictions  state_predictions  \n",
       "773                      0              0.50525            0.67151  \n",
       "774                      0              0.25598            0.28306  \n",
       "775                      0              0.51425            0.56699  \n",
       "776                      1              0.64685            0.39579  \n",
       "777                      1              0.45205            0.40705  "
      ]
     },
     "execution_count": 13,
     "metadata": {},
     "output_type": "execute_result"
    }
   ],
   "source": [
    "preds = model.predict(data_path = 'ct.csv')\n",
    "preds[['Anon Student Id', 'KC(Default)', 'Correct First Attempt', \n",
    "       'correct_predictions', 'state_predictions']].head(5)"
   ]
  },
  {
   "cell_type": "code",
   "execution_count": 14,
   "metadata": {},
   "outputs": [
    {
     "data": {
      "text/plain": [
       "array(['Plot non-terminating improper fraction', 'Plot imperfect radical',\n",
       "       'Plot terminating proper fraction', 'Plot pi', 'Plot whole number',\n",
       "       'Plot decimal - thousandths', 'Calculate unit rate',\n",
       "       'Calculate part in proportion with fractions',\n",
       "       'Calculate total in proportion with fractions',\n",
       "       'Finding the intersection, Mixed', 'Finding the intersection, GLF',\n",
       "       'Finding the intersection, SIF'], dtype=object)"
      ]
     },
     "execution_count": 14,
     "metadata": {},
     "output_type": "execute_result"
    }
   ],
   "source": [
    "# Let's sanity check that we have only trained on the skills that we specified in the call to fit!\n",
    "preds[preds['correct_predictions'] != 0.5]['KC(Default)'].unique()"
   ]
  },
  {
   "cell_type": "code",
   "execution_count": 25,
   "metadata": {},
   "outputs": [
    {
     "data": {
      "text/plain": [
       "0.4409632278564067"
      ]
     },
     "execution_count": 25,
     "metadata": {},
     "output_type": "execute_result"
    }
   ],
   "source": [
    "# manually calculate the RMSE of the correct predictions and ensure that it is the same as a call to the evaluate function.\n",
    "def rmse(y_true, y_pred):\n",
    "  \"\"\" Returns the root-mean squared error. \"\"\"\n",
    "  return np.sqrt(np.mean((y_true - y_pred) ** 2))\n",
    "\n",
    "# Filter out the data for which we did not train!\n",
    "preds_filtered = preds[preds['KC(Default)'].str.contains('fraction')]\n",
    "manual_training_rmse = rmse(preds_filtered['Correct First Attempt'],\n",
    "                            preds_filtered['correct_predictions'])\n",
    "manual_training_rmse"
   ]
  },
  {
   "cell_type": "markdown",
   "metadata": {},
   "source": [
    "### model corss-validation and variants"
   ]
  },
  {
   "cell_type": "code",
   "execution_count": 27,
   "metadata": {},
   "outputs": [
    {
     "data": {
      "text/html": [
       "<div>\n",
       "<style scoped>\n",
       "    .dataframe tbody tr th:only-of-type {\n",
       "        vertical-align: middle;\n",
       "    }\n",
       "\n",
       "    .dataframe tbody tr th {\n",
       "        vertical-align: top;\n",
       "    }\n",
       "\n",
       "    .dataframe thead th {\n",
       "        text-align: right;\n",
       "    }\n",
       "</style>\n",
       "<table border=\"1\" class=\"dataframe\">\n",
       "  <thead>\n",
       "    <tr style=\"text-align: right;\">\n",
       "      <th></th>\n",
       "      <th>rmse</th>\n",
       "    </tr>\n",
       "    <tr>\n",
       "      <th>skill</th>\n",
       "      <th></th>\n",
       "    </tr>\n",
       "  </thead>\n",
       "  <tbody>\n",
       "    <tr>\n",
       "      <th>Plot non-terminating improper fraction</th>\n",
       "      <td>0.48458</td>\n",
       "    </tr>\n",
       "    <tr>\n",
       "      <th>Plot imperfect radical</th>\n",
       "      <td>0.43937</td>\n",
       "    </tr>\n",
       "    <tr>\n",
       "      <th>Plot terminating proper fraction</th>\n",
       "      <td>0.49737</td>\n",
       "    </tr>\n",
       "    <tr>\n",
       "      <th>Plot pi</th>\n",
       "      <td>0.46067</td>\n",
       "    </tr>\n",
       "    <tr>\n",
       "      <th>Plot whole number</th>\n",
       "      <td>0.28934</td>\n",
       "    </tr>\n",
       "    <tr>\n",
       "      <th>Plot decimal - thousandths</th>\n",
       "      <td>0.47086</td>\n",
       "    </tr>\n",
       "    <tr>\n",
       "      <th>Calculate unit rate</th>\n",
       "      <td>0.48324</td>\n",
       "    </tr>\n",
       "    <tr>\n",
       "      <th>Calculate part in proportion with fractions</th>\n",
       "      <td>0.42637</td>\n",
       "    </tr>\n",
       "    <tr>\n",
       "      <th>Calculate total in proportion with fractions</th>\n",
       "      <td>0.42408</td>\n",
       "    </tr>\n",
       "    <tr>\n",
       "      <th>Finding the intersection, Mixed</th>\n",
       "      <td>0.50153</td>\n",
       "    </tr>\n",
       "    <tr>\n",
       "      <th>Finding the intersection, GLF</th>\n",
       "      <td>0.48770</td>\n",
       "    </tr>\n",
       "    <tr>\n",
       "      <th>Finding the intersection, SIF</th>\n",
       "      <td>0.49975</td>\n",
       "    </tr>\n",
       "  </tbody>\n",
       "</table>\n",
       "</div>"
      ],
      "text/plain": [
       "                                                rmse\n",
       "skill                                               \n",
       "Plot non-terminating improper fraction       0.48458\n",
       "Plot imperfect radical                       0.43937\n",
       "Plot terminating proper fraction             0.49737\n",
       "Plot pi                                      0.46067\n",
       "Plot whole number                            0.28934\n",
       "Plot decimal - thousandths                   0.47086\n",
       "Calculate unit rate                          0.48324\n",
       "Calculate part in proportion with fractions  0.42637\n",
       "Calculate total in proportion with fractions 0.42408\n",
       "Finding the intersection, Mixed              0.50153\n",
       "Finding the intersection, GLF                0.48770\n",
       "Finding the intersection, SIF                0.49975"
      ]
     },
     "execution_count": 27,
     "metadata": {},
     "output_type": "execute_result"
    }
   ],
   "source": [
    "model.crossvalidate(data_path = 'ct.csv', folds = 5)"
   ]
  },
  {
   "cell_type": "code",
   "execution_count": 36,
   "metadata": {},
   "outputs": [
    {
     "data": {
      "text/html": [
       "<div>\n",
       "<style scoped>\n",
       "    .dataframe tbody tr th:only-of-type {\n",
       "        vertical-align: middle;\n",
       "    }\n",
       "\n",
       "    .dataframe tbody tr th {\n",
       "        vertical-align: top;\n",
       "    }\n",
       "\n",
       "    .dataframe thead th {\n",
       "        text-align: right;\n",
       "    }\n",
       "</style>\n",
       "<table border=\"1\" class=\"dataframe\">\n",
       "  <thead>\n",
       "    <tr style=\"text-align: right;\">\n",
       "      <th></th>\n",
       "      <th>auc</th>\n",
       "    </tr>\n",
       "    <tr>\n",
       "      <th>skill</th>\n",
       "      <th></th>\n",
       "    </tr>\n",
       "  </thead>\n",
       "  <tbody>\n",
       "    <tr>\n",
       "      <th>Finding Percents</th>\n",
       "      <td>0.80011</td>\n",
       "    </tr>\n",
       "  </tbody>\n",
       "</table>\n",
       "</div>"
      ],
      "text/plain": [
       "                     auc\n",
       "skill                   \n",
       "Finding Percents 0.80011"
      ]
     },
     "execution_count": 36,
     "metadata": {},
     "output_type": "execute_result"
    }
   ],
   "source": [
    "# explore all the model variants offered within pyBKT for one particular skill \n",
    "# (Calculations with Similar Figures) using cross-validation since it\n",
    "skill = 'Finding Percents'\n",
    "metric = 'auc'\n",
    "\n",
    "simple_cv = model.crossvalidate(data = as_df, skills = skill, \n",
    "                                metric = metric)\n",
    "simple_cv"
   ]
  },
  {
   "cell_type": "code",
   "execution_count": 37,
   "metadata": {},
   "outputs": [
    {
     "data": {
      "text/html": [
       "<div>\n",
       "<style scoped>\n",
       "    .dataframe tbody tr th:only-of-type {\n",
       "        vertical-align: middle;\n",
       "    }\n",
       "\n",
       "    .dataframe tbody tr th {\n",
       "        vertical-align: top;\n",
       "    }\n",
       "\n",
       "    .dataframe thead th {\n",
       "        text-align: right;\n",
       "    }\n",
       "</style>\n",
       "<table border=\"1\" class=\"dataframe\">\n",
       "  <thead>\n",
       "    <tr style=\"text-align: right;\">\n",
       "      <th></th>\n",
       "      <th>auc</th>\n",
       "    </tr>\n",
       "    <tr>\n",
       "      <th>skill</th>\n",
       "      <th></th>\n",
       "    </tr>\n",
       "  </thead>\n",
       "  <tbody>\n",
       "    <tr>\n",
       "      <th>Finding Percents</th>\n",
       "      <td>0.72342</td>\n",
       "    </tr>\n",
       "  </tbody>\n",
       "</table>\n",
       "</div>"
      ],
      "text/plain": [
       "                     auc\n",
       "skill                   \n",
       "Finding Percents 0.72342"
      ]
     },
     "execution_count": 37,
     "metadata": {},
     "output_type": "execute_result"
    }
   ],
   "source": [
    "multigs_cv = model.crossvalidate(data_path = 'as.csv', skills = skill,\n",
    "                                 multigs = True, metric = metric)\n",
    "multigs_cv"
   ]
  },
  {
   "cell_type": "code",
   "execution_count": 38,
   "metadata": {},
   "outputs": [
    {
     "data": {
      "text/html": [
       "<div>\n",
       "<style scoped>\n",
       "    .dataframe tbody tr th:only-of-type {\n",
       "        vertical-align: middle;\n",
       "    }\n",
       "\n",
       "    .dataframe tbody tr th {\n",
       "        vertical-align: top;\n",
       "    }\n",
       "\n",
       "    .dataframe thead th {\n",
       "        text-align: right;\n",
       "    }\n",
       "</style>\n",
       "<table border=\"1\" class=\"dataframe\">\n",
       "  <thead>\n",
       "    <tr style=\"text-align: right;\">\n",
       "      <th></th>\n",
       "      <th>auc</th>\n",
       "    </tr>\n",
       "    <tr>\n",
       "      <th>skill</th>\n",
       "      <th></th>\n",
       "    </tr>\n",
       "  </thead>\n",
       "  <tbody>\n",
       "    <tr>\n",
       "      <th>Finding Percents</th>\n",
       "      <td>0.73387</td>\n",
       "    </tr>\n",
       "  </tbody>\n",
       "</table>\n",
       "</div>"
      ],
      "text/plain": [
       "                     auc\n",
       "skill                   \n",
       "Finding Percents 0.73387"
      ]
     },
     "execution_count": 38,
     "metadata": {},
     "output_type": "execute_result"
    }
   ],
   "source": [
    "multilearn_cv = model.crossvalidate(data_path = 'as.csv', skills = skill,\n",
    "                                    multilearn = True, forgets = True, \n",
    "                                    metric = metric)\n",
    "multilearn_cv"
   ]
  },
  {
   "cell_type": "code",
   "execution_count": 39,
   "metadata": {},
   "outputs": [
    {
     "data": {
      "text/html": [
       "<div>\n",
       "<style scoped>\n",
       "    .dataframe tbody tr th:only-of-type {\n",
       "        vertical-align: middle;\n",
       "    }\n",
       "\n",
       "    .dataframe tbody tr th {\n",
       "        vertical-align: top;\n",
       "    }\n",
       "\n",
       "    .dataframe thead th {\n",
       "        text-align: right;\n",
       "    }\n",
       "</style>\n",
       "<table border=\"1\" class=\"dataframe\">\n",
       "  <thead>\n",
       "    <tr style=\"text-align: right;\">\n",
       "      <th></th>\n",
       "      <th>auc</th>\n",
       "    </tr>\n",
       "    <tr>\n",
       "      <th>skill</th>\n",
       "      <th></th>\n",
       "    </tr>\n",
       "  </thead>\n",
       "  <tbody>\n",
       "    <tr>\n",
       "      <th>Finding Percents</th>\n",
       "      <td>0.81455</td>\n",
       "    </tr>\n",
       "    <tr>\n",
       "      <th>Finding Percents</th>\n",
       "      <td>0.79243</td>\n",
       "    </tr>\n",
       "  </tbody>\n",
       "</table>\n",
       "</div>"
      ],
      "text/plain": [
       "                     auc\n",
       "skill                   \n",
       "Finding Percents 0.81455\n",
       "Finding Percents 0.79243"
      ]
     },
     "execution_count": 39,
     "metadata": {},
     "output_type": "execute_result"
    }
   ],
   "source": [
    "# The multiprior model generates different priors based on the first \n",
    "# response of each student.\n",
    "multiprior_cv = model.crossvalidate(data_path = 'as.csv', skills = skill,\n",
    "                                    multiprior = True, metric = metric,\n",
    "                                    folds = 3)\n",
    "multipair_cv = model.crossvalidate(data_path = 'as.csv', skills = skill,\n",
    "                                   multipair = True, metric = metric,\n",
    "                                   folds = 3)\n",
    "pd.concat([multiprior_cv, multipair_cv], axis = 0)"
   ]
  },
  {
   "cell_type": "code",
   "execution_count": 40,
   "metadata": {},
   "outputs": [
    {
     "data": {
      "text/html": [
       "<div>\n",
       "<style scoped>\n",
       "    .dataframe tbody tr th:only-of-type {\n",
       "        vertical-align: middle;\n",
       "    }\n",
       "\n",
       "    .dataframe tbody tr th {\n",
       "        vertical-align: top;\n",
       "    }\n",
       "\n",
       "    .dataframe thead th {\n",
       "        text-align: right;\n",
       "    }\n",
       "</style>\n",
       "<table border=\"1\" class=\"dataframe\">\n",
       "  <thead>\n",
       "    <tr style=\"text-align: right;\">\n",
       "      <th></th>\n",
       "      <th>auc</th>\n",
       "    </tr>\n",
       "    <tr>\n",
       "      <th>skill</th>\n",
       "      <th></th>\n",
       "    </tr>\n",
       "  </thead>\n",
       "  <tbody>\n",
       "    <tr>\n",
       "      <th>Finding Percents</th>\n",
       "      <td>0.65961</td>\n",
       "    </tr>\n",
       "  </tbody>\n",
       "</table>\n",
       "</div>"
      ],
      "text/plain": [
       "                     auc\n",
       "skill                   \n",
       "Finding Percents 0.65961"
      ]
     },
     "execution_count": 40,
     "metadata": {},
     "output_type": "execute_result"
    }
   ],
   "source": [
    "# testing with other skills and see whether this holds true for the general case.\n",
    "combo_cv = model.crossvalidate(data_path = 'as.csv', skills = skill,\n",
    "                               forgets = True, multilearn = True, \n",
    "                               multigs = True, metric = metric)\n",
    "combo_cv"
   ]
  },
  {
   "cell_type": "markdown",
   "metadata": {},
   "source": [
    "### Model Parameter Initialization and Visualization"
   ]
  },
  {
   "cell_type": "code",
   "execution_count": 41,
   "metadata": {},
   "outputs": [
    {
     "data": {
      "text/plain": [
       "{'Finding Percents': {'prior': 1e-40}}"
      ]
     },
     "execution_count": 41,
     "metadata": {},
     "output_type": "execute_result"
    }
   ],
   "source": [
    "skill = 'Finding Percents'\n",
    "\n",
    "model.coef_ = {skill: {'prior': 1e-40}}\n",
    "model.coef_"
   ]
  },
  {
   "cell_type": "code",
   "execution_count": 42,
   "metadata": {},
   "outputs": [
    {
     "name": "stdout",
     "output_type": "stream",
     "text": [
      "Fitted Prior Value: 0.000000\n",
      "Training AUC: 0.765298\n"
     ]
    }
   ],
   "source": [
    "# Train the model with the pre-initialized parameters.\n",
    "model.fit(data_path = 'as.csv', skills = skill, multigs = True)\n",
    "low_prior_auc = model.evaluate(data_path = 'as.csv', metric = 'auc')\n",
    "\n",
    "# We can obtain the prior value by indexing into the model.coef_\n",
    "# dictionary with the skill and parameter names. \n",
    "print(\"Fitted Prior Value: %f\" % model.coef_[skill]['prior'])\n",
    "print(\"Training AUC: %f\" % low_prior_auc)"
   ]
  },
  {
   "cell_type": "code",
   "execution_count": 43,
   "metadata": {},
   "outputs": [
    {
     "name": "stdout",
     "output_type": "stream",
     "text": [
      "Fitted Prior Value: 0.936148\n",
      "Training AUC: 0.721203\n"
     ]
    }
   ],
   "source": [
    "# Initialize the prior to be more reasonable.\n",
    "model.coef_ = {skill: {'prior': 0.5}}\n",
    "model.fit(data_path = 'as.csv', skills = skill, multigs = True)\n",
    "normal_prior_auc = model.evaluate(data_path = 'as.csv', metric = 'auc')\n",
    "\n",
    "# Print the fitted prior value and RMSE.\n",
    "print(\"Fitted Prior Value: %f\" % model.coef_[skill]['prior'])\n",
    "print(\"Training AUC: %f\" % normal_prior_auc)"
   ]
  },
  {
   "cell_type": "code",
   "execution_count": 44,
   "metadata": {},
   "outputs": [
    {
     "data": {
      "text/html": [
       "<div>\n",
       "<style scoped>\n",
       "    .dataframe tbody tr th:only-of-type {\n",
       "        vertical-align: middle;\n",
       "    }\n",
       "\n",
       "    .dataframe tbody tr th {\n",
       "        vertical-align: top;\n",
       "    }\n",
       "\n",
       "    .dataframe thead th {\n",
       "        text-align: right;\n",
       "    }\n",
       "</style>\n",
       "<table border=\"1\" class=\"dataframe\">\n",
       "  <thead>\n",
       "    <tr style=\"text-align: right;\">\n",
       "      <th></th>\n",
       "      <th></th>\n",
       "      <th></th>\n",
       "      <th>value</th>\n",
       "    </tr>\n",
       "    <tr>\n",
       "      <th>skill</th>\n",
       "      <th>param</th>\n",
       "      <th>class</th>\n",
       "      <th></th>\n",
       "    </tr>\n",
       "  </thead>\n",
       "  <tbody>\n",
       "    <tr>\n",
       "      <th rowspan=\"11\" valign=\"top\">Finding Percents</th>\n",
       "      <th>prior</th>\n",
       "      <th>default</th>\n",
       "      <td>0.41826</td>\n",
       "    </tr>\n",
       "    <tr>\n",
       "      <th rowspan=\"4\" valign=\"top\">learns</th>\n",
       "      <th>1085</th>\n",
       "      <td>0.02507</td>\n",
       "    </tr>\n",
       "    <tr>\n",
       "      <th>1254</th>\n",
       "      <td>0.03443</td>\n",
       "    </tr>\n",
       "    <tr>\n",
       "      <th>2218</th>\n",
       "      <td>0.02875</td>\n",
       "    </tr>\n",
       "    <tr>\n",
       "      <th>30204</th>\n",
       "      <td>0.01104</td>\n",
       "    </tr>\n",
       "    <tr>\n",
       "      <th>...</th>\n",
       "      <th>...</th>\n",
       "      <td>...</td>\n",
       "    </tr>\n",
       "    <tr>\n",
       "      <th rowspan=\"5\" valign=\"top\">forgets</th>\n",
       "      <th>78169</th>\n",
       "      <td>0.98235</td>\n",
       "    </tr>\n",
       "    <tr>\n",
       "      <th>78170</th>\n",
       "      <td>0.97905</td>\n",
       "    </tr>\n",
       "    <tr>\n",
       "      <th>78171</th>\n",
       "      <td>0.98530</td>\n",
       "    </tr>\n",
       "    <tr>\n",
       "      <th>78172</th>\n",
       "      <td>0.97806</td>\n",
       "    </tr>\n",
       "    <tr>\n",
       "      <th>849</th>\n",
       "      <td>0.96313</td>\n",
       "    </tr>\n",
       "  </tbody>\n",
       "</table>\n",
       "<p>93 rows × 1 columns</p>\n",
       "</div>"
      ],
      "text/plain": [
       "                                   value\n",
       "skill            param   class          \n",
       "Finding Percents prior   default 0.41826\n",
       "                 learns  1085    0.02507\n",
       "                         1254    0.03443\n",
       "                         2218    0.02875\n",
       "                         30204   0.01104\n",
       "...                                  ...\n",
       "                 forgets 78169   0.98235\n",
       "                         78170   0.97905\n",
       "                         78171   0.98530\n",
       "                         78172   0.97806\n",
       "                         849     0.96313\n",
       "\n",
       "[93 rows x 1 columns]"
      ]
     },
     "execution_count": 44,
     "metadata": {},
     "output_type": "execute_result"
    }
   ],
   "source": [
    "model.fit(data_path = 'as.csv', skills = skill,\n",
    "          forgets = True, multilearn = True, \n",
    "          multigs = True)\n",
    "model.params()"
   ]
  },
  {
   "cell_type": "code",
   "execution_count": 45,
   "metadata": {},
   "outputs": [
    {
     "data": {
      "image/png": "[encoded data removed]",
      "text/plain": [
       "<Figure size 864x432 with 1 Axes>"
      ]
     },
     "metadata": {
      "needs_background": "light"
     },
     "output_type": "display_data"
    }
   ],
   "source": [
    "import warnings\n",
    "warnings.simplefilter(action='ignore')\n",
    "\n",
    "# Plot the learns, forgets, slips and guesses for each of the classes.\n",
    "params = model.params()\n",
    "plt.figure(figsize = (12, 6))\n",
    "plt.plot(params.loc[(skill, 'guesses')], label = 'Guesses')\n",
    "plt.plot(params.loc[(skill, 'learns')], label = 'Learns')\n",
    "plt.plot(params.loc[(skill, 'forgets')], label = 'Forgets')\n",
    "plt.plot(params.loc[(skill, 'slips')], label = 'Slips')\n",
    "plt.xlabel('Template ID')\n",
    "plt.ylabel('Rate')\n",
    "plt.title('BKT Parameters per Template ID Class')\n",
    "plt.legend();"
   ]
  },
  {
   "cell_type": "code",
   "execution_count": 46,
   "metadata": {},
   "outputs": [
    {
     "data": {
      "text/html": [
       "<div>\n",
       "<style scoped>\n",
       "    .dataframe tbody tr th:only-of-type {\n",
       "        vertical-align: middle;\n",
       "    }\n",
       "\n",
       "    .dataframe tbody tr th {\n",
       "        vertical-align: top;\n",
       "    }\n",
       "\n",
       "    .dataframe thead th {\n",
       "        text-align: right;\n",
       "    }\n",
       "</style>\n",
       "<table border=\"1\" class=\"dataframe\">\n",
       "  <thead>\n",
       "    <tr style=\"text-align: right;\">\n",
       "      <th></th>\n",
       "      <th>accuracy</th>\n",
       "    </tr>\n",
       "    <tr>\n",
       "      <th>skill</th>\n",
       "      <th></th>\n",
       "    </tr>\n",
       "  </thead>\n",
       "  <tbody>\n",
       "    <tr>\n",
       "      <th>Circle Graph</th>\n",
       "      <td>0.68050</td>\n",
       "    </tr>\n",
       "    <tr>\n",
       "      <th>Box and Whisker</th>\n",
       "      <td>0.75513</td>\n",
       "    </tr>\n",
       "  </tbody>\n",
       "</table>\n",
       "</div>"
      ],
      "text/plain": [
       "                 accuracy\n",
       "skill                    \n",
       "Circle Graph      0.68050\n",
       "Box and Whisker   0.75513"
      ]
     },
     "execution_count": 46,
     "metadata": {},
     "output_type": "execute_result"
    }
   ],
   "source": [
    "# Extended Data and Model Configuration\n",
    "config = {'multigs': True,\n",
    "          'multilearn': True,\n",
    "          'skills': ['Box and Whisker', 'Circle Graph'],\n",
    "          'forgets': True,\n",
    "          'metric': 'accuracy',\n",
    "          'folds': 4,\n",
    "          'seed': 42 * 42}\n",
    "model.crossvalidate(data_path = 'as.csv', **config)"
   ]
  },
  {
   "cell_type": "code",
   "execution_count": 47,
   "metadata": {},
   "outputs": [
    {
     "data": {
      "text/plain": [
       "{'order_id': 'custom_order',\n",
       " 'skill_name': 'custom_skill',\n",
       " 'correct': 'custom_answer',\n",
       " 'multigs': 'custom_gs_classes'}"
      ]
     },
     "execution_count": 47,
     "metadata": {},
     "output_type": "execute_result"
    }
   ],
   "source": [
    "# specify the columns corresponding to each required column for other non-Assistments/CogTutor style datasets\n",
    "defaults = {'order_id': 'custom_order', \n",
    "            'skill_name': 'custom_skill', \n",
    "            'correct': 'custom_answer'}\n",
    "\n",
    "# This defaults dictionary can also contain columns specifying\n",
    "# what columns correspond to the desired guess/slip classes, etc.\n",
    "defaults['multigs'] = 'custom_gs_classes'\n",
    "\n",
    "# Our final column mapping is:\n",
    "defaults"
   ]
  },
  {
   "cell_type": "code",
   "execution_count": 51,
   "metadata": {},
   "outputs": [
    {
     "data": {
      "text/html": [
       "<div>\n",
       "<style scoped>\n",
       "    .dataframe tbody tr th:only-of-type {\n",
       "        vertical-align: middle;\n",
       "    }\n",
       "\n",
       "    .dataframe tbody tr th {\n",
       "        vertical-align: top;\n",
       "    }\n",
       "\n",
       "    .dataframe thead th {\n",
       "        text-align: right;\n",
       "    }\n",
       "</style>\n",
       "<table border=\"1\" class=\"dataframe\">\n",
       "  <thead>\n",
       "    <tr style=\"text-align: right;\">\n",
       "      <th></th>\n",
       "      <th>custom_order</th>\n",
       "      <th>Anon Student Id</th>\n",
       "      <th>custom_skill</th>\n",
       "      <th>custom_answer</th>\n",
       "      <th>custom_gs_classes</th>\n",
       "    </tr>\n",
       "  </thead>\n",
       "  <tbody>\n",
       "    <tr>\n",
       "      <th>773</th>\n",
       "      <td>112149</td>\n",
       "      <td>0I891Gg</td>\n",
       "      <td>Plot non-terminating improper fraction (Custom)</td>\n",
       "      <td>0</td>\n",
       "      <td>RATIONAL1-014</td>\n",
       "    </tr>\n",
       "    <tr>\n",
       "      <th>774</th>\n",
       "      <td>112151</td>\n",
       "      <td>0I891Gg</td>\n",
       "      <td>Plot imperfect radical (Custom)</td>\n",
       "      <td>0</td>\n",
       "      <td>RATIONAL1-041</td>\n",
       "    </tr>\n",
       "    <tr>\n",
       "      <th>775</th>\n",
       "      <td>112156</td>\n",
       "      <td>0I891Gg</td>\n",
       "      <td>Plot terminating proper fraction (Custom)</td>\n",
       "      <td>0</td>\n",
       "      <td>RATIONAL1-104</td>\n",
       "    </tr>\n",
       "    <tr>\n",
       "      <th>776</th>\n",
       "      <td>112157</td>\n",
       "      <td>0I891Gg</td>\n",
       "      <td>Plot pi (Custom)</td>\n",
       "      <td>1</td>\n",
       "      <td>RATIONAL1-122</td>\n",
       "    </tr>\n",
       "    <tr>\n",
       "      <th>777</th>\n",
       "      <td>112159</td>\n",
       "      <td>0I891Gg</td>\n",
       "      <td>Plot terminating proper fraction (Custom)</td>\n",
       "      <td>1</td>\n",
       "      <td>RATIONAL1-180</td>\n",
       "    </tr>\n",
       "  </tbody>\n",
       "</table>\n",
       "</div>"
      ],
      "text/plain": [
       "     custom_order Anon Student Id  \\\n",
       "773        112149         0I891Gg   \n",
       "774        112151         0I891Gg   \n",
       "775        112156         0I891Gg   \n",
       "776        112157         0I891Gg   \n",
       "777        112159         0I891Gg   \n",
       "\n",
       "                                        custom_skill  custom_answer  \\\n",
       "773  Plot non-terminating improper fraction (Custom)              0   \n",
       "774                  Plot imperfect radical (Custom)              0   \n",
       "775        Plot terminating proper fraction (Custom)              0   \n",
       "776                                 Plot pi (Custom)              1   \n",
       "777        Plot terminating proper fraction (Custom)              1   \n",
       "\n",
       "    custom_gs_classes  \n",
       "773     RATIONAL1-014  \n",
       "774     RATIONAL1-041  \n",
       "775     RATIONAL1-104  \n",
       "776     RATIONAL1-122  \n",
       "777     RATIONAL1-180  "
      ]
     },
     "execution_count": 51,
     "metadata": {},
     "output_type": "execute_result"
    }
   ],
   "source": [
    "columns = ['Row', 'Anon Student Id', 'KC(Default)','Correct First Attempt', 'Problem Name']\n",
    "my_df = ct_df[columns]\n",
    "my_df.columns = ['custom_order', 'Anon Student Id','custom_skill','custom_answer','custom_gs_classes']\n",
    "my_df['custom_skill'] += ' (Custom)'\n",
    "my_df.head(5)"
   ]
  },
  {
   "cell_type": "code",
   "execution_count": 52,
   "metadata": {},
   "outputs": [
    {
     "data": {
      "text/html": [
       "<div>\n",
       "<style scoped>\n",
       "    .dataframe tbody tr th:only-of-type {\n",
       "        vertical-align: middle;\n",
       "    }\n",
       "\n",
       "    .dataframe tbody tr th {\n",
       "        vertical-align: top;\n",
       "    }\n",
       "\n",
       "    .dataframe thead th {\n",
       "        text-align: right;\n",
       "    }\n",
       "</style>\n",
       "<table border=\"1\" class=\"dataframe\">\n",
       "  <thead>\n",
       "    <tr style=\"text-align: right;\">\n",
       "      <th></th>\n",
       "      <th>auc</th>\n",
       "    </tr>\n",
       "    <tr>\n",
       "      <th>skill</th>\n",
       "      <th></th>\n",
       "    </tr>\n",
       "  </thead>\n",
       "  <tbody>\n",
       "    <tr>\n",
       "      <th>Plot non-terminating improper fraction (Custom)</th>\n",
       "      <td>0.64856</td>\n",
       "    </tr>\n",
       "    <tr>\n",
       "      <th>Plot imperfect radical (Custom)</th>\n",
       "      <td>0.64175</td>\n",
       "    </tr>\n",
       "    <tr>\n",
       "      <th>Plot terminating proper fraction (Custom)</th>\n",
       "      <td>0.57077</td>\n",
       "    </tr>\n",
       "    <tr>\n",
       "      <th>Plot pi (Custom)</th>\n",
       "      <td>0.55061</td>\n",
       "    </tr>\n",
       "    <tr>\n",
       "      <th>Plot whole number (Custom)</th>\n",
       "      <td>0.52191</td>\n",
       "    </tr>\n",
       "    <tr>\n",
       "      <th>Plot decimal - thousandths (Custom)</th>\n",
       "      <td>0.62681</td>\n",
       "    </tr>\n",
       "    <tr>\n",
       "      <th>Calculate unit rate (Custom)</th>\n",
       "      <td>0.58789</td>\n",
       "    </tr>\n",
       "    <tr>\n",
       "      <th>Calculate part in proportion with fractions (Custom)</th>\n",
       "      <td>0.66632</td>\n",
       "    </tr>\n",
       "    <tr>\n",
       "      <th>Calculate total in proportion with fractions (Custom)</th>\n",
       "      <td>0.70669</td>\n",
       "    </tr>\n",
       "    <tr>\n",
       "      <th>Finding the intersection, Mixed (Custom)</th>\n",
       "      <td>0.52520</td>\n",
       "    </tr>\n",
       "    <tr>\n",
       "      <th>Finding the intersection, GLF (Custom)</th>\n",
       "      <td>0.57494</td>\n",
       "    </tr>\n",
       "    <tr>\n",
       "      <th>Finding the intersection, SIF (Custom)</th>\n",
       "      <td>0.54063</td>\n",
       "    </tr>\n",
       "  </tbody>\n",
       "</table>\n",
       "</div>"
      ],
      "text/plain": [
       "                                                       auc\n",
       "skill                                                     \n",
       "Plot non-terminating improper fraction (Custom)    0.64856\n",
       "Plot imperfect radical (Custom)                    0.64175\n",
       "Plot terminating proper fraction (Custom)          0.57077\n",
       "Plot pi (Custom)                                   0.55061\n",
       "Plot whole number (Custom)                         0.52191\n",
       "Plot decimal - thousandths (Custom)                0.62681\n",
       "Calculate unit rate (Custom)                       0.58789\n",
       "Calculate part in proportion with fractions (Cu... 0.66632\n",
       "Calculate total in proportion with fractions (C... 0.70669\n",
       "Finding the intersection, Mixed (Custom)           0.52520\n",
       "Finding the intersection, GLF (Custom)             0.57494\n",
       "Finding the intersection, SIF (Custom)             0.54063"
      ]
     },
     "execution_count": 52,
     "metadata": {},
     "output_type": "execute_result"
    }
   ],
   "source": [
    "# We can crossvalidate/fit given these default column mappings.\n",
    "model.crossvalidate(data = my_df, metric = 'auc',defaults = defaults)"
   ]
  },
  {
   "cell_type": "markdown",
   "metadata": {},
   "source": [
    "### Sample Case Studies"
   ]
  },
  {
   "cell_type": "markdown",
   "metadata": {},
   "source": [
    "Question 1: Which model variant has the smallest training loss for \"Venn Diagram\" in as.csv?"
   ]
  },
  {
   "cell_type": "code",
   "execution_count": 54,
   "metadata": {},
   "outputs": [
    {
     "data": {
      "text/html": [
       "<div>\n",
       "<style scoped>\n",
       "    .dataframe tbody tr th:only-of-type {\n",
       "        vertical-align: middle;\n",
       "    }\n",
       "\n",
       "    .dataframe tbody tr th {\n",
       "        vertical-align: top;\n",
       "    }\n",
       "\n",
       "    .dataframe thead th {\n",
       "        text-align: right;\n",
       "    }\n",
       "</style>\n",
       "<table border=\"1\" class=\"dataframe\">\n",
       "  <thead>\n",
       "    <tr style=\"text-align: right;\">\n",
       "      <th></th>\n",
       "      <th>RMSE</th>\n",
       "    </tr>\n",
       "    <tr>\n",
       "      <th>model type</th>\n",
       "      <th></th>\n",
       "    </tr>\n",
       "  </thead>\n",
       "  <tbody>\n",
       "    <tr>\n",
       "      <th>simple</th>\n",
       "      <td>0.33127</td>\n",
       "    </tr>\n",
       "    <tr>\n",
       "      <th>multilearn</th>\n",
       "      <td>0.32946</td>\n",
       "    </tr>\n",
       "    <tr>\n",
       "      <th>multigs</th>\n",
       "      <td>0.33994</td>\n",
       "    </tr>\n",
       "    <tr>\n",
       "      <th>forgets</th>\n",
       "      <td>0.27896</td>\n",
       "    </tr>\n",
       "    <tr>\n",
       "      <th>multigs + forgets</th>\n",
       "      <td>0.31429</td>\n",
       "    </tr>\n",
       "    <tr>\n",
       "      <th>multilearn + forgets</th>\n",
       "      <td>0.27093</td>\n",
       "    </tr>\n",
       "  </tbody>\n",
       "</table>\n",
       "</div>"
      ],
      "text/plain": [
       "                        RMSE\n",
       "model type                  \n",
       "simple               0.33127\n",
       "multilearn           0.32946\n",
       "multigs              0.33994\n",
       "forgets              0.27896\n",
       "multigs + forgets    0.31429\n",
       "multilearn + forgets 0.27093"
      ]
     },
     "execution_count": 54,
     "metadata": {},
     "output_type": "execute_result"
    }
   ],
   "source": [
    "models = {}\n",
    "\n",
    "model = Model(seed = 42, num_fits = 1)\n",
    "model.fit(data_path=\"as.csv\", skills=\"Venn Diagram\")\n",
    "models['simple'] = model.evaluate(data_path=\"as.csv\")\n",
    "model.fit(data_path=\"as.csv\", skills=\"Venn Diagram\", multilearn=True)\n",
    "models['multilearn'] = model.evaluate(data_path=\"as.csv\")\n",
    "model.fit(data_path=\"as.csv\", skills=\"Venn Diagram\", multigs=True)\n",
    "models['multigs'] = model.evaluate(data_path=\"as.csv\")\n",
    "model.fit(data_path=\"as.csv\", skills=\"Venn Diagram\", forgets=True)\n",
    "models['forgets'] = model.evaluate(data_path=\"as.csv\")\n",
    "model.fit(data_path=\"as.csv\", skills=\"Venn Diagram\", forgets=True, multigs = True)\n",
    "models['multigs + forgets'] = model.evaluate(data_path=\"as.csv\")\n",
    "model.fit(data_path=\"as.csv\", skills=\"Venn Diagram\", forgets=True, multilearn = True)\n",
    "models['multilearn + forgets'] = model.evaluate(data_path=\"as.csv\")\n",
    "\n",
    "df = pd.DataFrame(models.items())\n",
    "df.columns = ['model type', 'RMSE']\n",
    "df.set_index('model type')"
   ]
  },
  {
   "cell_type": "markdown",
   "metadata": {},
   "source": [
    "Question 2: Which columns work the best for the multilearn skills below in ct.csv?"
   ]
  },
  {
   "cell_type": "code",
   "execution_count": 55,
   "metadata": {},
   "outputs": [
    {
     "name": "stdout",
     "output_type": "stream",
     "text": [
      "------------------\n",
      "******************\n",
      "SKILL: Calculate unit rate\n",
      "Basic: 0.5758811863837751\n",
      "Anon Student Id: 0.45264177131140243\n",
      "Problem Hierarchy: 0.5964639089516452\n",
      "Problem Name: 0.5738369474687298\n",
      "Problem View: 0.5967703368372461\n",
      "Step Name: 0.5815386830594255\n",
      "Correct First Attempt: 0.5907457574885487\n",
      "Incorrects: 0.5896916535900502\n",
      "Hints: 0.5869667069601229\n",
      "Opportunity(Default): 0.5616755823473748\n",
      "------------------\n",
      "******************\n",
      "SKILL: Calculate part in proportion with fractions\n",
      "Basic: 0.6659042485073614\n",
      "Anon Student Id: 0.506303782222664\n",
      "Problem Hierarchy: 0.6663548401469296\n",
      "Problem Name: 0.6639139689215355\n",
      "Problem View: 0.6658880250155178\n",
      "Step Name: 0.6665552816790881\n",
      "Correct First Attempt: 0.6661885584434383\n",
      "Incorrects: 0.665828456286305\n",
      "Hints: 0.6679978325008475\n",
      "Opportunity(Default): 0.6664503696521793\n"
     ]
    }
   ],
   "source": [
    "skills = ['Calculate unit rate','Calculate part in proportion with fractions']\n",
    "column_names = [\"Anon Student Id\", \"Problem Hierarchy\", \"Problem Name\", \"Problem View\", \"Step Name\", \"Correct First Attempt\", \n",
    "                \"Incorrects\", \"Hints\", \"Opportunity(Default)\"]\n",
    "model = Model(num_fits = 1)\n",
    "for skill in skills:\n",
    "    print(\"------------------\")\n",
    "    print(\"******************\")\n",
    "    print(\"SKILL: %s\" % skill)\n",
    "    print(\"Basic:\", model.crossvalidate(data_path=\"ct.csv\", skills=skill,metric = 'auc').iloc[0, 0])\n",
    "    for i in column_names:\n",
    "        print(\"%s:\" % i, model.crossvalidate(data_path=\"ct.csv\", skills=skill, multilearn=i, metric = 'auc').iloc[0, 0])"
   ]
  },
  {
   "cell_type": "markdown",
   "metadata": {},
   "source": [
    "Question 3: Does binned response time have an effect on the learn rate?\n",
    "Does it improve the RMSE of the model compared to the normal template_id based multilearn/guess?"
   ]
  },
  {
   "cell_type": "code",
   "execution_count": 56,
   "metadata": {},
   "outputs": [
    {
     "name": "stdout",
     "output_type": "stream",
     "text": [
      "RMSE Improvement using Resp. Time: 0.000557\n"
     ]
    },
    {
     "data": {
      "text/html": [
       "<div>\n",
       "<style scoped>\n",
       "    .dataframe tbody tr th:only-of-type {\n",
       "        vertical-align: middle;\n",
       "    }\n",
       "\n",
       "    .dataframe tbody tr th {\n",
       "        vertical-align: top;\n",
       "    }\n",
       "\n",
       "    .dataframe thead th {\n",
       "        text-align: right;\n",
       "    }\n",
       "</style>\n",
       "<table border=\"1\" class=\"dataframe\">\n",
       "  <thead>\n",
       "    <tr style=\"text-align: right;\">\n",
       "      <th></th>\n",
       "      <th>mean learn rate</th>\n",
       "    </tr>\n",
       "    <tr>\n",
       "      <th>class</th>\n",
       "      <th></th>\n",
       "    </tr>\n",
       "  </thead>\n",
       "  <tbody>\n",
       "    <tr>\n",
       "      <th>less than 10s</th>\n",
       "      <td>0.11750</td>\n",
       "    </tr>\n",
       "    <tr>\n",
       "      <th>less than 20s</th>\n",
       "      <td>0.18296</td>\n",
       "    </tr>\n",
       "    <tr>\n",
       "      <th>less than 30s</th>\n",
       "      <td>0.18230</td>\n",
       "    </tr>\n",
       "    <tr>\n",
       "      <th>less than 40s</th>\n",
       "      <td>0.15115</td>\n",
       "    </tr>\n",
       "    <tr>\n",
       "      <th>less than 50s</th>\n",
       "      <td>0.17406</td>\n",
       "    </tr>\n",
       "    <tr>\n",
       "      <th>other</th>\n",
       "      <td>0.16894</td>\n",
       "    </tr>\n",
       "  </tbody>\n",
       "</table>\n",
       "</div>"
      ],
      "text/plain": [
       "               mean learn rate\n",
       "class                         \n",
       "less than 10s          0.11750\n",
       "less than 20s          0.18296\n",
       "less than 30s          0.18230\n",
       "less than 40s          0.15115\n",
       "less than 50s          0.17406\n",
       "other                  0.16894"
      ]
     },
     "execution_count": 56,
     "metadata": {},
     "output_type": "execute_result"
    },
    {
     "data": {
      "image/png": "[encoded data removed]",
      "text/plain": [
       "<Figure size 864x432 with 1 Axes>"
      ]
     },
     "metadata": {
      "needs_background": "light"
     },
     "output_type": "display_data"
    }
   ],
   "source": [
    "as_df = pd.read_csv('as.csv', encoding = 'latin')\n",
    "learn_maps = {0: 'less than 10s', \n",
    "              1: 'less than 20s', \n",
    "              2: 'less than 30s', \n",
    "              3: 'less than 40s', \n",
    "              4: 'less than 50s'}\n",
    "as_df['resp_t'] = (as_df['ms_first_response'] // 10000).map(learn_maps).fillna('other')\n",
    "model.fit(data = as_df, multilearn = 'resp_t')\n",
    "params_df = model.params().reset_index()\n",
    "plt.figure(figsize = (12, 6))\n",
    "params_df[params_df['param'] == 'learns'].groupby('class')['value'].plot.kde(bw_method=0.2)\n",
    "plt.xlim((0, 1))\n",
    "plt.legend()\n",
    "plt.title('Frequency of Learn Rate Parameters with Response Time')\n",
    "plt.xlabel('Learn Rate')\n",
    "\n",
    "simple_rmse = model.crossvalidate(data = as_df)\n",
    "resptime_combo_rmse = model.crossvalidate(data = as_df,multigs = 'resp_t',multilearn = 'resp_t')\n",
    "normal_combo_rmse = model.crossvalidate(data = as_df,multigs = True, multilearn = True)\n",
    "rmse_diff = (resptime_combo_rmse - normal_combo_rmse)['rmse'].mean()\n",
    "print(\"RMSE Improvement using Resp. Time: %f\" % rmse_diff)\n",
    "params_df[params_df['param'] == 'learns'].groupby('class').mean()[['value']].rename(columns = {'value': 'mean learn rate'})"
   ]
  },
  {
   "cell_type": "markdown",
   "metadata": {},
   "source": [
    "### Summary"
   ]
  },
  {
   "cell_type": "code",
   "execution_count": 60,
   "metadata": {},
   "outputs": [
    {
     "name": "stdout",
     "output_type": "stream",
     "text": [
      "Training MAE: 0.412872\n"
     ]
    },
    {
     "data": {
      "text/html": [
       "<div>\n",
       "<style scoped>\n",
       "    .dataframe tbody tr th:only-of-type {\n",
       "        vertical-align: middle;\n",
       "    }\n",
       "\n",
       "    .dataframe tbody tr th {\n",
       "        vertical-align: top;\n",
       "    }\n",
       "\n",
       "    .dataframe thead th {\n",
       "        text-align: right;\n",
       "    }\n",
       "</style>\n",
       "<table border=\"1\" class=\"dataframe\">\n",
       "  <thead>\n",
       "    <tr style=\"text-align: right;\">\n",
       "      <th></th>\n",
       "      <th>mae</th>\n",
       "    </tr>\n",
       "    <tr>\n",
       "      <th>skill</th>\n",
       "      <th></th>\n",
       "    </tr>\n",
       "  </thead>\n",
       "  <tbody>\n",
       "    <tr>\n",
       "      <th>Plot non-terminating improper fraction</th>\n",
       "      <td>0.46431</td>\n",
       "    </tr>\n",
       "    <tr>\n",
       "      <th>Plot imperfect radical</th>\n",
       "      <td>0.37944</td>\n",
       "    </tr>\n",
       "    <tr>\n",
       "      <th>Plot terminating proper fraction</th>\n",
       "      <td>0.49237</td>\n",
       "    </tr>\n",
       "    <tr>\n",
       "      <th>Plot pi</th>\n",
       "      <td>0.42817</td>\n",
       "    </tr>\n",
       "    <tr>\n",
       "      <th>Plot whole number</th>\n",
       "      <td>0.16973</td>\n",
       "    </tr>\n",
       "    <tr>\n",
       "      <th>Plot decimal - thousandths</th>\n",
       "      <td>0.44684</td>\n",
       "    </tr>\n",
       "    <tr>\n",
       "      <th>Calculate unit rate</th>\n",
       "      <td>0.46568</td>\n",
       "    </tr>\n",
       "    <tr>\n",
       "      <th>Calculate part in proportion with fractions</th>\n",
       "      <td>0.36594</td>\n",
       "    </tr>\n",
       "    <tr>\n",
       "      <th>Calculate total in proportion with fractions</th>\n",
       "      <td>0.36150</td>\n",
       "    </tr>\n",
       "    <tr>\n",
       "      <th>Finding the intersection, Mixed</th>\n",
       "      <td>0.49781</td>\n",
       "    </tr>\n",
       "    <tr>\n",
       "      <th>Finding the intersection, GLF</th>\n",
       "      <td>0.47421</td>\n",
       "    </tr>\n",
       "    <tr>\n",
       "      <th>Finding the intersection, SIF</th>\n",
       "      <td>0.48443</td>\n",
       "    </tr>\n",
       "  </tbody>\n",
       "</table>\n",
       "</div>"
      ],
      "text/plain": [
       "                                                 mae\n",
       "skill                                               \n",
       "Plot non-terminating improper fraction       0.46431\n",
       "Plot imperfect radical                       0.37944\n",
       "Plot terminating proper fraction             0.49237\n",
       "Plot pi                                      0.42817\n",
       "Plot whole number                            0.16973\n",
       "Plot decimal - thousandths                   0.44684\n",
       "Calculate unit rate                          0.46568\n",
       "Calculate part in proportion with fractions  0.36594\n",
       "Calculate total in proportion with fractions 0.36150\n",
       "Finding the intersection, Mixed              0.49781\n",
       "Finding the intersection, GLF                0.47421\n",
       "Finding the intersection, SIF                0.48443"
      ]
     },
     "execution_count": 60,
     "metadata": {},
     "output_type": "execute_result"
    }
   ],
   "source": [
    "# Let's summarize.\n",
    "def mae(true_vals, pred_vals):\n",
    "  \"\"\" Calculates the mean absolute error. \"\"\"\n",
    "  return np.mean(np.abs(true_vals - pred_vals))\n",
    "\n",
    "# This code fetches data, fits, predicts, evaluates and crossvalidates\n",
    "# a BKT model on all skills in Cognitive Tutor. It uses the mean absolute\n",
    "# error as the desired error metric.\n",
    "model = Model(seed = 42, num_fits = 5)\n",
    "model.fit(data_path = 'ct.csv')\n",
    "preds_df = model.predict(data_path = 'ct.csv')\n",
    "mae_error = model.evaluate(data_path = 'ct.csv', metric = mae)\n",
    "cv_errors = model.crossvalidate(data_path = 'ct.csv', metric = mae)\n",
    "print(\"Training MAE: %f\" % mae_error)\n",
    "cv_errors"
   ]
  },
  {
   "cell_type": "code",
   "execution_count": null,
   "metadata": {},
   "outputs": [],
   "source": []
  }
 ],
 "metadata": {
  "kernelspec": {
   "display_name": "Python 3",
   "language": "python",
   "name": "python3"
  },
  "language_info": {
   "codemirror_mode": {
    "name": "ipython",
    "version": 3
   },
   "file_extension": ".py",
   "mimetype": "text/x-python",
   "name": "python",
   "nbconvert_exporter": "python",
   "pygments_lexer": "ipython3",
   "version": "3.7.4"
  }
 },
 "nbformat": 4,
 "nbformat_minor": 2
}
