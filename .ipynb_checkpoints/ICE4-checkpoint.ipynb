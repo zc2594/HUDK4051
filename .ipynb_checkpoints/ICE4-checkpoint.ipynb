{
 "cells": [
  {
   "cell_type": "markdown",
   "metadata": {},
   "source": [
    "# Rocommender Systems"
   ]
  },
  {
   "cell_type": "markdown",
   "metadata": {},
   "source": [
    "**Course**: HUDK 4051  \n",
    "\n",
    "**Author**: Zecheng Chang \n",
    "\n",
    "**Assignment**: ICE 4\n",
    "\n",
    "**Objectives**:  \n",
    "At the end of this ICE, you will be able to:  \n",
    "\n",
    "    * build a simple content-based recommender\n",
    "    * build a simple user-based collaborative filter\n",
    "\n"
   ]
  },
  {
   "cell_type": "markdown",
   "metadata": {},
   "source": [
    "Recommender Systems (RSs) are software, tools, and techniques providing suggestions for items to be of use to a user. The suggestions relate to various decision-making processes: Amazon uses it to suggest products to customers, YouTube uses it to decide which video to play next on autoplay, and Facebook uses it to recommend pages to like and people to follow. In the educational world, the most common application of RSs is to recommend appropriate learning resources (e.g., readings, projects, practices, courses) to a learner.\n",
    "\n",
    "As you can imagine, RSs is a field that has exists a long time with many different branches. The purpose of this ICE is not to make you an expert in building recommender system models. Instead, it is designed to get you started by giving you an high-level overview of two types of common RSs implementations (i.e., content-based recommender and collaborative filter) that exist and how you can build one by yourself."
   ]
  },
  {
   "cell_type": "markdown",
   "metadata": {},
   "source": [
    "## Building an RS for Learning Modules"
   ]
  },
  {
   "cell_type": "markdown",
   "metadata": {},
   "source": [
    "Suppose that we have a self-guided LA course with seven units that learners can choose based on their preference. Our purpose is to make recommendations to learners based on their interest and preference. We have collected some ratings of the units from previous learners in terms of both interest and difficulty.\n",
    "\n",
    "Let's start by loading both the interest and difficulty csv files:"
   ]
  },
  {
   "cell_type": "code",
   "execution_count": 108,
   "metadata": {},
   "outputs": [],
   "source": [
    "import pandas as pd\n",
    "import numpy as np\n",
    "import matplotlib.pyplot as plt\n",
    "from sklearn.metrics.pairwise import cosine_similarity"
   ]
  },
  {
   "cell_type": "code",
   "execution_count": 2,
   "metadata": {},
   "outputs": [],
   "source": [
    "interest = pd.read_csv(\"interest.csv\")\n",
    "difficulty = pd.read_csv(\"difficulty.csv\")"
   ]
  },
  {
   "cell_type": "code",
   "execution_count": 3,
   "metadata": {},
   "outputs": [
    {
     "data": {
      "text/html": [
       "<div>\n",
       "<style scoped>\n",
       "    .dataframe tbody tr th:only-of-type {\n",
       "        vertical-align: middle;\n",
       "    }\n",
       "\n",
       "    .dataframe tbody tr th {\n",
       "        vertical-align: top;\n",
       "    }\n",
       "\n",
       "    .dataframe thead th {\n",
       "        text-align: right;\n",
       "    }\n",
       "</style>\n",
       "<table border=\"1\" class=\"dataframe\">\n",
       "  <thead>\n",
       "    <tr style=\"text-align: right;\">\n",
       "      <th></th>\n",
       "      <th>id</th>\n",
       "      <th>prediction.interest</th>\n",
       "      <th>nlp.interest</th>\n",
       "      <th>sna.interest</th>\n",
       "      <th>neural.interest</th>\n",
       "      <th>viz.interest</th>\n",
       "      <th>loop.interest</th>\n",
       "      <th>sql.interest</th>\n",
       "    </tr>\n",
       "  </thead>\n",
       "  <tbody>\n",
       "    <tr>\n",
       "      <th>0</th>\n",
       "      <td>s1</td>\n",
       "      <td>5</td>\n",
       "      <td>5.0</td>\n",
       "      <td>4</td>\n",
       "      <td>5.0</td>\n",
       "      <td>2</td>\n",
       "      <td>4.0</td>\n",
       "      <td>5.0</td>\n",
       "    </tr>\n",
       "    <tr>\n",
       "      <th>1</th>\n",
       "      <td>s2</td>\n",
       "      <td>5</td>\n",
       "      <td>5.0</td>\n",
       "      <td>5</td>\n",
       "      <td>5.0</td>\n",
       "      <td>5</td>\n",
       "      <td>5.0</td>\n",
       "      <td>5.0</td>\n",
       "    </tr>\n",
       "    <tr>\n",
       "      <th>2</th>\n",
       "      <td>s3</td>\n",
       "      <td>5</td>\n",
       "      <td>5.0</td>\n",
       "      <td>5</td>\n",
       "      <td>5.0</td>\n",
       "      <td>5</td>\n",
       "      <td>4.0</td>\n",
       "      <td>4.0</td>\n",
       "    </tr>\n",
       "  </tbody>\n",
       "</table>\n",
       "</div>"
      ],
      "text/plain": [
       "   id  prediction.interest  nlp.interest  sna.interest  neural.interest  \\\n",
       "0  s1                    5           5.0             4              5.0   \n",
       "1  s2                    5           5.0             5              5.0   \n",
       "2  s3                    5           5.0             5              5.0   \n",
       "\n",
       "   viz.interest  loop.interest  sql.interest  \n",
       "0             2            4.0           5.0  \n",
       "1             5            5.0           5.0  \n",
       "2             5            4.0           4.0  "
      ]
     },
     "execution_count": 3,
     "metadata": {},
     "output_type": "execute_result"
    }
   ],
   "source": [
    "interest.head(3)"
   ]
  },
  {
   "cell_type": "code",
   "execution_count": 5,
   "metadata": {},
   "outputs": [
    {
     "data": {
      "text/html": [
       "<div>\n",
       "<style scoped>\n",
       "    .dataframe tbody tr th:only-of-type {\n",
       "        vertical-align: middle;\n",
       "    }\n",
       "\n",
       "    .dataframe tbody tr th {\n",
       "        vertical-align: top;\n",
       "    }\n",
       "\n",
       "    .dataframe thead th {\n",
       "        text-align: right;\n",
       "    }\n",
       "</style>\n",
       "<table border=\"1\" class=\"dataframe\">\n",
       "  <thead>\n",
       "    <tr style=\"text-align: right;\">\n",
       "      <th></th>\n",
       "      <th>id</th>\n",
       "      <th>prediction.difficulty</th>\n",
       "      <th>nlp.difficulty</th>\n",
       "      <th>sna.difficulty</th>\n",
       "      <th>neural.difficulty</th>\n",
       "      <th>viz.difficulty</th>\n",
       "      <th>loop.difficulty</th>\n",
       "      <th>sql.difficulty</th>\n",
       "    </tr>\n",
       "  </thead>\n",
       "  <tbody>\n",
       "    <tr>\n",
       "      <th>0</th>\n",
       "      <td>s1</td>\n",
       "      <td>4</td>\n",
       "      <td>5.0</td>\n",
       "      <td>3</td>\n",
       "      <td>5.0</td>\n",
       "      <td>3.0</td>\n",
       "      <td>3.0</td>\n",
       "      <td>5.0</td>\n",
       "    </tr>\n",
       "    <tr>\n",
       "      <th>1</th>\n",
       "      <td>s2</td>\n",
       "      <td>5</td>\n",
       "      <td>5.0</td>\n",
       "      <td>5</td>\n",
       "      <td>5.0</td>\n",
       "      <td>5.0</td>\n",
       "      <td>5.0</td>\n",
       "      <td>5.0</td>\n",
       "    </tr>\n",
       "    <tr>\n",
       "      <th>2</th>\n",
       "      <td>s3</td>\n",
       "      <td>3</td>\n",
       "      <td>3.0</td>\n",
       "      <td>3</td>\n",
       "      <td>3.0</td>\n",
       "      <td>3.0</td>\n",
       "      <td>3.0</td>\n",
       "      <td>2.0</td>\n",
       "    </tr>\n",
       "  </tbody>\n",
       "</table>\n",
       "</div>"
      ],
      "text/plain": [
       "   id  prediction.difficulty  nlp.difficulty  sna.difficulty  \\\n",
       "0  s1                      4             5.0               3   \n",
       "1  s2                      5             5.0               5   \n",
       "2  s3                      3             3.0               3   \n",
       "\n",
       "   neural.difficulty  viz.difficulty  loop.difficulty  sql.difficulty  \n",
       "0                5.0             3.0              3.0             5.0  \n",
       "1                5.0             5.0              5.0             5.0  \n",
       "2                3.0             3.0              3.0             2.0  "
      ]
     },
     "execution_count": 5,
     "metadata": {},
     "output_type": "execute_result"
    }
   ],
   "source": [
    "difficulty.head(3)"
   ]
  },
  {
   "cell_type": "markdown",
   "metadata": {},
   "source": [
    "In both dataset, student names are anonymized and seven topics (i.e., prediction, nlp, sna, neural networks, data visualization, sql, and closing the loop of learning analytics) are rated on a Likert scale from 1-5 (i.e., 1 being the least interested/difficult)."
   ]
  },
  {
   "cell_type": "markdown",
   "metadata": {},
   "source": [
    "### EDA"
   ]
  },
  {
   "cell_type": "code",
   "execution_count": 9,
   "metadata": {},
   "outputs": [
    {
     "data": {
      "text/plain": [
       "Index(['id', 'prediction.difficulty', 'nlp.difficulty', 'sna.difficulty',\n",
       "       'neural.difficulty', 'viz.difficulty', 'loop.difficulty',\n",
       "       'sql.difficulty'],\n",
       "      dtype='object')"
      ]
     },
     "execution_count": 9,
     "metadata": {},
     "output_type": "execute_result"
    }
   ],
   "source": [
    "difficulty.columns"
   ]
  },
  {
   "cell_type": "code",
   "execution_count": 20,
   "metadata": {},
   "outputs": [
    {
     "data": {
      "text/plain": [
       "['prediction', 'nlp', 'sna', 'neural', 'viz', 'loop', 'sql']"
      ]
     },
     "execution_count": 20,
     "metadata": {},
     "output_type": "execute_result"
    }
   ],
   "source": []
  },
  {
   "cell_type": "code",
   "execution_count": 92,
   "metadata": {},
   "outputs": [],
   "source": [
    "## Data wrangling\n",
    "## create a dataset with rows being the seven units\n",
    "# while the columns are the mean of the difficulty ratings and the interest ratings.\n",
    "\n",
    "_index = [x.split('.')[0] for x in difficulty.columns[1:]]\n",
    "\n",
    "difficulty_mean = pd.DataFrame(difficulty.mean(axis=0,numeric_only=True), columns=['difficulty'])\n",
    "difficulty_mean.index=_index\n",
    "\n",
    "interest_mean = pd.DataFrame(interest.mean(axis=0,numeric_only=True), columns=['interest'])\n",
    "interest_mean.index=_index\n",
    "\n",
    "difficulty_interest = pd.concat([difficulty_mean,interest_mean],axis=1)\n"
   ]
  },
  {
   "cell_type": "code",
   "execution_count": 93,
   "metadata": {},
   "outputs": [
    {
     "data": {
      "text/html": [
       "<div>\n",
       "<style scoped>\n",
       "    .dataframe tbody tr th:only-of-type {\n",
       "        vertical-align: middle;\n",
       "    }\n",
       "\n",
       "    .dataframe tbody tr th {\n",
       "        vertical-align: top;\n",
       "    }\n",
       "\n",
       "    .dataframe thead th {\n",
       "        text-align: right;\n",
       "    }\n",
       "</style>\n",
       "<table border=\"1\" class=\"dataframe\">\n",
       "  <thead>\n",
       "    <tr style=\"text-align: right;\">\n",
       "      <th></th>\n",
       "      <th>difficulty</th>\n",
       "      <th>interest</th>\n",
       "    </tr>\n",
       "  </thead>\n",
       "  <tbody>\n",
       "    <tr>\n",
       "      <th>prediction</th>\n",
       "      <td>3.807692</td>\n",
       "      <td>4.326923</td>\n",
       "    </tr>\n",
       "    <tr>\n",
       "      <th>nlp</th>\n",
       "      <td>4.220000</td>\n",
       "      <td>4.431373</td>\n",
       "    </tr>\n",
       "    <tr>\n",
       "      <th>sna</th>\n",
       "      <td>3.769231</td>\n",
       "      <td>4.134615</td>\n",
       "    </tr>\n",
       "    <tr>\n",
       "      <th>neural</th>\n",
       "      <td>4.400000</td>\n",
       "      <td>4.490196</td>\n",
       "    </tr>\n",
       "    <tr>\n",
       "      <th>viz</th>\n",
       "      <td>4.060000</td>\n",
       "      <td>4.596154</td>\n",
       "    </tr>\n",
       "    <tr>\n",
       "      <th>loop</th>\n",
       "      <td>4.080000</td>\n",
       "      <td>4.431373</td>\n",
       "    </tr>\n",
       "    <tr>\n",
       "      <th>sql</th>\n",
       "      <td>3.693878</td>\n",
       "      <td>4.431373</td>\n",
       "    </tr>\n",
       "  </tbody>\n",
       "</table>\n",
       "</div>"
      ],
      "text/plain": [
       "            difficulty  interest\n",
       "prediction    3.807692  4.326923\n",
       "nlp           4.220000  4.431373\n",
       "sna           3.769231  4.134615\n",
       "neural        4.400000  4.490196\n",
       "viz           4.060000  4.596154\n",
       "loop          4.080000  4.431373\n",
       "sql           3.693878  4.431373"
      ]
     },
     "execution_count": 93,
     "metadata": {},
     "output_type": "execute_result"
    }
   ],
   "source": [
    "difficulty_interest"
   ]
  },
  {
   "cell_type": "markdown",
   "metadata": {},
   "source": [
    "## Content-Based Recommender"
   ]
  },
  {
   "cell_type": "markdown",
   "metadata": {},
   "source": [
    "Content-based recommenders suggest similar items based on a particular item. This system uses item metadata, such as ratings, description, comments, etc. to make these recommendations. The general idea behind these recommender systems is that if a person likes a particular item, they will also like an item that is similar to it. And to recommend that, it will make use of the user's past item metadata. A good example could be YouTube, where based on your history, it suggests you new videos that you could potentially watch.\n",
    "\n",
    "In that sense, our task is simplied to identifying the similar items (i.e., LA units) in our dataset. Does that sound familiar to you? Yes, any distance-based algorithms (e.g., KNN) will be great for measuring similarities. If you just want to do some simple explorations, clustering is also a good place to start.\n",
    "\n",
    "In our case, the metadata only consists of the difficulty and the interest, which makes it easy to plot:"
   ]
  },
  {
   "cell_type": "code",
   "execution_count": 94,
   "metadata": {},
   "outputs": [
    {
     "data": {
      "image/png": "[encoded data removed]",
      "text/plain": [
       "<Figure size 432x288 with 1 Axes>"
      ]
     },
     "metadata": {
      "needs_background": "light"
     },
     "output_type": "display_data"
    }
   ],
   "source": [
    "# Plot the basic scatter plot\n",
    "plt.scatter(difficulty_interest.difficulty, difficulty_interest.interest)\n",
    "\n",
    "# Add lables to each point\n",
    "for i, index in enumerate (difficulty_interest.index):\n",
    "    plt.text(difficulty_interest.difficulty[i]+0.01, difficulty_interest.interest[i]+0.01, index)\n",
    "    \n",
    "# Adjust the axis limit and label\n",
    "plt.xlim (3.5, 4.7)\n",
    "plt.ylim (4.0, 4.7)\n",
    "plt.xlabel(\"difficulty\")\n",
    "plt.ylabel(\"interest\");"
   ]
  },
  {
   "cell_type": "code",
   "execution_count": 106,
   "metadata": {},
   "outputs": [
    {
     "data": {
      "text/html": [
       "<div>\n",
       "<style scoped>\n",
       "    .dataframe tbody tr th:only-of-type {\n",
       "        vertical-align: middle;\n",
       "    }\n",
       "\n",
       "    .dataframe tbody tr th {\n",
       "        vertical-align: top;\n",
       "    }\n",
       "\n",
       "    .dataframe thead th {\n",
       "        text-align: right;\n",
       "    }\n",
       "</style>\n",
       "<table border=\"1\" class=\"dataframe\">\n",
       "  <thead>\n",
       "    <tr style=\"text-align: right;\">\n",
       "      <th></th>\n",
       "      <th>difficulty</th>\n",
       "      <th>interest</th>\n",
       "      <th>distance</th>\n",
       "    </tr>\n",
       "  </thead>\n",
       "  <tbody>\n",
       "    <tr>\n",
       "      <th>prediction</th>\n",
       "      <td>3.807692</td>\n",
       "      <td>4.326923</td>\n",
       "      <td>0.000000</td>\n",
       "    </tr>\n",
       "    <tr>\n",
       "      <th>sql</th>\n",
       "      <td>3.693878</td>\n",
       "      <td>4.431373</td>\n",
       "      <td>0.154478</td>\n",
       "    </tr>\n",
       "    <tr>\n",
       "      <th>sna</th>\n",
       "      <td>3.769231</td>\n",
       "      <td>4.134615</td>\n",
       "      <td>0.196116</td>\n",
       "    </tr>\n",
       "    <tr>\n",
       "      <th>loop</th>\n",
       "      <td>4.080000</td>\n",
       "      <td>4.431373</td>\n",
       "      <td>0.291652</td>\n",
       "    </tr>\n",
       "    <tr>\n",
       "      <th>viz</th>\n",
       "      <td>4.060000</td>\n",
       "      <td>4.596154</td>\n",
       "      <td>0.368977</td>\n",
       "    </tr>\n",
       "    <tr>\n",
       "      <th>nlp</th>\n",
       "      <td>4.220000</td>\n",
       "      <td>4.431373</td>\n",
       "      <td>0.425332</td>\n",
       "    </tr>\n",
       "    <tr>\n",
       "      <th>neural</th>\n",
       "      <td>4.400000</td>\n",
       "      <td>4.490196</td>\n",
       "      <td>0.614399</td>\n",
       "    </tr>\n",
       "  </tbody>\n",
       "</table>\n",
       "</div>"
      ],
      "text/plain": [
       "            difficulty  interest  distance\n",
       "prediction    3.807692  4.326923  0.000000\n",
       "sql           3.693878  4.431373  0.154478\n",
       "sna           3.769231  4.134615  0.196116\n",
       "loop          4.080000  4.431373  0.291652\n",
       "viz           4.060000  4.596154  0.368977\n",
       "nlp           4.220000  4.431373  0.425332\n",
       "neural        4.400000  4.490196  0.614399"
      ]
     },
     "execution_count": 106,
     "metadata": {},
     "output_type": "execute_result"
    }
   ],
   "source": [
    "# Create a new column called distance. And assign 0 to all rows temporarily.\n",
    "difficulty_interest_distance = difficulty_interest.copy()\n",
    "difficulty_interest_distance['distance'] = 0\n",
    "\n",
    "# Pick any row to start.\n",
    "item = difficulty_interest_distance.loc['prediction',]\n",
    "\n",
    "# Loop around the data frame index; Obtain the target row; Calculate the distance\n",
    "# Assign to d; And assign to the corresponding cell.\n",
    "for i in difficulty_interest_distance.index:\n",
    "    target = difficulty_interest_distance.loc[i,]\n",
    "    d = np.linalg.norm(item-target)\n",
    "    difficulty_interest_distance.loc[i, 'distance'] = d\n",
    "\n",
    "# Sort the result by distance\n",
    "difficulty_interest_distance.sort_values('distance', ascending=True)"
   ]
  },
  {
   "cell_type": "markdown",
   "metadata": {},
   "source": [
    "Based on the distance, prediction is mostly similar to sql considering both the difficulty and the interest while neural is the least similar. As a result, based on the current item prediction, we would recommend sql.\n",
    "\n",
    "Another popular way in RSs implementation is to use the cosine similarity to measure the distance. The cosine similarity to calculate a numeric quantity that denotes the similarity between two movies. You use the cosine similarity score since it is independent of magnitude and is relatively easy and fast to calculate. Mathematically, it is defined as follows:"
   ]
  },
  {
   "cell_type": "markdown",
   "metadata": {},
   "source": [
    "$$\n",
    "Cosine(x,y) = \\frac{x \\cdot y}{|x||y|}\n",
    "$$"
   ]
  },
  {
   "cell_type": "code",
   "execution_count": 109,
   "metadata": {},
   "outputs": [
    {
     "data": {
      "text/plain": [
       "array([[1.        , 0.99922723, 0.99984605, 0.99856397, 0.99999823,\n",
       "        0.99974724, 0.99964159],\n",
       "       [0.99922723, 1.        , 0.99976308, 0.99989801, 0.99929948,\n",
       "        0.99985835, 0.99781682],\n",
       "       [0.99984605, 0.99976308, 1.        , 0.99935025, 0.99987732,\n",
       "        0.99998782, 0.99901794],\n",
       "       [0.99856397, 0.99989801, 0.99935025, 1.        , 0.99866309,\n",
       "        0.999516  , 0.99677186],\n",
       "       [0.99999823, 0.99929948, 0.99987732, 0.99866309, 1.        ,\n",
       "        0.99978781, 0.99958939],\n",
       "       [0.99974724, 0.99985835, 0.99998782, 0.999516  , 0.99978781,\n",
       "        1.        , 0.99878705],\n",
       "       [0.99964159, 0.99781682, 0.99901794, 0.99677186, 0.99958939,\n",
       "        0.99878705, 1.        ]])"
      ]
     },
     "execution_count": 109,
     "metadata": {},
     "output_type": "execute_result"
    }
   ],
   "source": [
    "cosine_sim = cosine_similarity(difficulty_interest)\n",
    "cosine_sim"
   ]
  },
  {
   "cell_type": "code",
   "execution_count": 110,
   "metadata": {},
   "outputs": [
    {
     "data": {
      "text/plain": [
       "prediction    0\n",
       "nlp           1\n",
       "sna           2\n",
       "neural        3\n",
       "viz           4\n",
       "loop          5\n",
       "sql           6\n",
       "dtype: int64"
      ]
     },
     "execution_count": 110,
     "metadata": {},
     "output_type": "execute_result"
    }
   ],
   "source": [
    "# Before we move forward, we need to create a index for the module\n",
    "module_indices = pd.Series(range(len(difficulty_interest.index)), index = difficulty_interest.index)\n",
    "\n",
    "module_indices"
   ]
  },
  {
   "cell_type": "code",
   "execution_count": 111,
   "metadata": {},
   "outputs": [],
   "source": [
    "def get_recommendations(name, cosine_sim, matrix_indices):\n",
    "    # Get the index of the movie that matches the title\n",
    "    idx = matrix_indices[name]\n",
    "\n",
    "    # Get the pairwsie similarity scores of all movies with that movie\n",
    "    sim_scores = list(enumerate(cosine_sim[idx]))\n",
    "\n",
    "    # Sort the movies based on the similarity scores\n",
    "    sim_scores = sorted(sim_scores, key=lambda x: x[1], reverse=True)\n",
    "\n",
    "    # Get the scores of the 10 most similar movies\n",
    "    sim_scores = sim_scores[1:6]\n",
    "\n",
    "    # Get the movie indices\n",
    "    rank_indices = [i[0] for i in sim_scores]\n",
    "\n",
    "    # Return the top 10 most similar movies\n",
    "    return matrix_indices.iloc[rank_indices]"
   ]
  },
  {
   "cell_type": "code",
   "execution_count": 112,
   "metadata": {},
   "outputs": [
    {
     "data": {
      "text/plain": [
       "viz     4\n",
       "sna     2\n",
       "loop    5\n",
       "sql     6\n",
       "nlp     1\n",
       "dtype: int64"
      ]
     },
     "execution_count": 112,
     "metadata": {},
     "output_type": "execute_result"
    }
   ],
   "source": [
    "get_recommendations(\"prediction\", cosine_sim, module_indices)\n"
   ]
  },
  {
   "cell_type": "markdown",
   "metadata": {},
   "source": [
    "## Collaborative Filter"
   ]
  },
  {
   "cell_type": "markdown",
   "metadata": {},
   "source": [
    "In constrast to content-based recommender, collaborative filter (CF) relies on the dynamic input of the user data and make recommendations. Collaborative filters can further be classified into two types:"
   ]
  },
  {
   "cell_type": "code",
   "execution_count": 113,
   "metadata": {},
   "outputs": [],
   "source": [
    "# First we need to clean up the dataset a little bit: Removing NaNs and naming rows\n",
    "interest_na = interest.dropna()\n",
    "interest_na.index = interest_na.id\n",
    "interest_clean = interest_na.drop('id', axis=1)"
   ]
  },
  {
   "cell_type": "code",
   "execution_count": 114,
   "metadata": {},
   "outputs": [],
   "source": [
    "# Obtain the cosine similarity matrix\n",
    "cosine_sim_interest = cosine_similarity(interest_clean, interest_clean)\n",
    "# Create an index for the student list\n",
    "id_indices = pd.Series(range(len(interest_clean.index)), index = interest_clean.index)"
   ]
  },
  {
   "cell_type": "code",
   "execution_count": 115,
   "metadata": {},
   "outputs": [
    {
     "data": {
      "text/plain": [
       "id\n",
       "s2      1\n",
       "s6      5\n",
       "s12    11\n",
       "s13    12\n",
       "s16    15\n",
       "dtype: int64"
      ]
     },
     "execution_count": 115,
     "metadata": {},
     "output_type": "execute_result"
    }
   ],
   "source": [
    "# Recycle the get_recommendations() that we have created\n",
    "get_recommendations(\"s5\", cosine_sim_interest, id_indices)"
   ]
  }
 ],
 "metadata": {
  "kernelspec": {
   "display_name": "Python 3",
   "language": "python",
   "name": "python3"
  },
  "language_info": {
   "codemirror_mode": {
    "name": "ipython",
    "version": 3
   },
   "file_extension": ".py",
   "mimetype": "text/x-python",
   "name": "python",
   "nbconvert_exporter": "python",
   "pygments_lexer": "ipython3",
   "version": "3.7.4"
  }
 },
 "nbformat": 4,
 "nbformat_minor": 2
}
